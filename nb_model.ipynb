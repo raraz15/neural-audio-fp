{
 "cells": [
  {
   "cell_type": "code",
   "execution_count": 1,
   "metadata": {},
   "outputs": [
    {
     "name": "stderr",
     "output_type": "stream",
     "text": [
      "[   INFO   ] MusicExtractorSVM: no classifier models were configured by default\n"
     ]
    }
   ],
   "source": [
    "%reload_ext autoreload\n",
    "%autoreload 2\n",
    "\n",
    "import os\n",
    "os.environ[\"CUDA_VISIBLE_DEVICES\"] = \"-1\"\n",
    "\n",
    "from glob import glob\n",
    "import wave\n",
    "import math\n",
    "\n",
    "import numpy as np\n",
    "from scipy import stats\n",
    "\n",
    "import essentia.standard as es\n",
    "import librosa\n",
    "import pandas as pd\n",
    "\n",
    "log_dir = \"logs/emb/\""
   ]
  },
  {
   "attachments": {},
   "cell_type": "markdown",
   "metadata": {},
   "source": [
    "## Audio Directories "
   ]
  },
  {
   "attachments": {},
   "cell_type": "markdown",
   "metadata": {},
   "source": [
    "DISCOTUBE = \"/mnt/projects/discotube/discotube-2023-03/audio-new/audio/\"\n",
    "audio_directories = os.listdir(DISCOTUBE)\n",
    "audio_directory = audio_directories[0]\n",
    "mp4_paths = glob(os.path.join(DISCOTUBE, audio_directory, \"*.mp4\"))\n",
    "mp4_path = mp4_paths[0]"
   ]
  },
  {
   "cell_type": "code",
   "execution_count": 2,
   "metadata": {},
   "outputs": [
    {
     "name": "stdout",
     "output_type": "stream",
     "text": [
      "9978\n"
     ]
    }
   ],
   "source": [
    "audio_dir = \"/home/oaraz/nextcore/afp/neural-audio-fp-dataset/music/test-dummy-db-100k-full/from_fma_large10k-30s_for_mini/\"\n",
    "audio_paths = glob(os.path.join(audio_dir, \"*/*.wav\"))\n",
    "print(len(audio_paths))"
   ]
  },
  {
   "attachments": {},
   "cell_type": "markdown",
   "metadata": {},
   "source": [
    "## Load Eval Results"
   ]
  },
  {
   "cell_type": "code",
   "execution_count": 13,
   "metadata": {},
   "outputs": [],
   "source": [
    "test_seq_len='1 3 5 9 11 19'\n",
    "test_seq_len = np.asarray(list(map(int, test_seq_len.split())))"
   ]
  },
  {
   "cell_type": "code",
   "execution_count": 18,
   "metadata": {},
   "outputs": [],
   "source": [
    "def display_results(model_name, epoc, test_seq_len):\n",
    "    emb_dir = os.path.join(log_dir, model_name, epoc)\n",
    "    test_ids = np.load(os.path.join(emb_dir, \"test_ids.npy\"))\n",
    "    raw_score = np.load(os.path.join(emb_dir, \"raw_score.npy\"))\n",
    "    # print(test_ids.shape)\n",
    "    # print(raw_score.shape)\n",
    "\n",
    "    top1_exact, top1_near, top3_exact, top10_exact = np.split(raw_score, 4, axis=1)\n",
    "    top1_exact_rate = 100. * np.mean(top1_exact, axis=0)\n",
    "    top1_near_rate = 100. * np.mean(top1_near, axis=0)\n",
    "    top3_exact_rate = 100. * np.mean(top3_exact, axis=0)\n",
    "    top10_exact_rate = 100. * np.mean(top10_exact, axis=0)\n",
    "    all_metrics = np.stack((top1_exact_rate, top1_near_rate, top3_exact_rate, top10_exact_rate), axis=0)\n",
    "    df = pd.DataFrame(all_metrics, columns=test_seq_len, index=[\"top1_exact\", \"top1_near\", \"top3_exact\", \"top10_exact\"])\n",
    "    print(df)\n",
    "    # return df"
   ]
  },
  {
   "cell_type": "code",
   "execution_count": 23,
   "metadata": {},
   "outputs": [
    {
     "name": "stdout",
     "output_type": "stream",
     "text": [
      "replication\n",
      "                1     3      5      9      11    19\n",
      "top1_exact   75.85  92.0  96.70  98.55  98.95  99.6\n",
      "top1_near    82.60  93.4  97.05  98.60  98.95  99.6\n",
      "top3_exact   84.30  94.9  97.80  99.15  99.30  99.8\n",
      "top10_exact  87.20  95.9  98.30  99.25  99.45  99.8\n",
      "\n",
      "dB_normalized_1\n",
      "                1      3      5      9      11     19\n",
      "top1_exact   77.30  93.40  97.05  98.85  99.15  99.55\n",
      "top1_near    82.60  94.05  97.40  98.95  99.20  99.65\n",
      "top3_exact   85.20  96.25  98.05  99.35  99.55  99.85\n",
      "top10_exact  88.05  96.55  98.45  99.50  99.65  99.90\n",
      "\n",
      "essentia_mel\n",
      "                1      3      5      9      11     19\n",
      "top1_exact   76.55  93.45  97.25  99.05  99.20  99.60\n",
      "top1_near    82.85  94.50  97.50  99.05  99.20  99.60\n",
      "top3_exact   84.90  96.15  98.50  99.40  99.55  99.85\n",
      "top10_exact  87.90  97.05  98.85  99.45  99.60  99.85\n",
      "\n"
     ]
    }
   ],
   "source": [
    "model_name = \"replication\"\n",
    "epoc = \"100\"\n",
    "print(model_name)\n",
    "display_results(model_name, epoc, test_seq_len)\n",
    "print()\n",
    "\n",
    "model_name = \"dB_normalized_1\"\n",
    "epoc = \"100\"\n",
    "print(model_name)\n",
    "display_results(model_name, epoc, test_seq_len)\n",
    "print()\n",
    "\n",
    "model_name = \"essentia_mel\"\n",
    "epoc = \"100\"\n",
    "print(model_name)\n",
    "display_results(model_name, epoc, test_seq_len)\n",
    "print()\n"
   ]
  },
  {
   "cell_type": "code",
   "execution_count": 19,
   "metadata": {},
   "outputs": [],
   "source": [
    "from eval.utils.print_table import PrintTable"
   ]
  },
  {
   "cell_type": "code",
   "execution_count": null,
   "metadata": {},
   "outputs": [],
   "source": [
    "pt = PrintTable(scr=scr, test_seq_len=test_seq_len,\n",
    "                row_names=['Top1 exact', 'Top1 near', 'Top3 exact','Top10 exact'])\n",
    "pt.update_table((top1_exact_rate, top1_near_rate, top3_exact_rate, top10_exact_rate))"
   ]
  }
 ],
 "metadata": {
  "kernelspec": {
   "display_name": "afp",
   "language": "python",
   "name": "python3"
  },
  "language_info": {
   "codemirror_mode": {
    "name": "ipython",
    "version": 3
   },
   "file_extension": ".py",
   "mimetype": "text/x-python",
   "name": "python",
   "nbconvert_exporter": "python",
   "pygments_lexer": "ipython3",
   "version": "3.7.7"
  },
  "orig_nbformat": 4
 },
 "nbformat": 4,
 "nbformat_minor": 2
}
