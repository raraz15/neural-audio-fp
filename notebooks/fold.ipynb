{
 "cells": [
  {
   "cell_type": "code",
   "execution_count": 1,
   "id": "589f4056",
   "metadata": {},
   "outputs": [],
   "source": [
    "import os\n",
    "import json\n",
    "import glob\n",
    "from pathlib import Path\n",
    "from itertools import combinations"
   ]
  },
  {
   "cell_type": "code",
   "execution_count": 11,
   "id": "37d2bb39",
   "metadata": {},
   "outputs": [],
   "source": [
    "folds_root_dir = \"/home/oaraz/nextcore/fingerprinting/datasets/5_fold-nafp-dataset\""
   ]
  },
  {
   "cell_type": "code",
   "execution_count": 12,
   "id": "deffd9e1",
   "metadata": {},
   "outputs": [
    {
     "name": "stdout",
     "output_type": "stream",
     "text": [
      "10000\n",
      "1000\n",
      "5000\n",
      "90574\n",
      "0\n",
      "0\n",
      "0\n",
      "0\n",
      "0\n",
      "0\n"
     ]
    }
   ],
   "source": [
    "fold_name = \"0\"\n",
    "\n",
    "fold_dir = os.path.join(folds_root_dir, fold_name)\n",
    "\n",
    "train_txt_name = \"train.txt\"\n",
    "val_txt_name = \"val.txt\"\n",
    "test_query_txt_name = \"test_query.txt\"\n",
    "test_dummy_txt_name = \"test_dummy.txt\"\n",
    "\n",
    "with open(os.path.join(fold_dir, train_txt_name), \"r\") as in_f:\n",
    "    train_wav_names = [f.strip() for f in in_f.readlines()]\n",
    "train_wav_names = set(train_wav_names)\n",
    "print(len(train_wav_names))\n",
    "\n",
    "with open(os.path.join(fold_dir, val_txt_name), \"r\") as in_f:\n",
    "    val_wav_names = [f.strip() for f in in_f.readlines()]\n",
    "val_wav_names = set(val_wav_names)\n",
    "print(len(val_wav_names))\n",
    "\n",
    "with open(os.path.join(fold_dir, test_query_txt_name), \"r\") as in_f:\n",
    "    test_query_wav_names = [f.strip() for f in in_f.readlines()]\n",
    "test_query_wav_names = set(test_query_wav_names)\n",
    "print(len(test_query_wav_names))\n",
    "\n",
    "with open(os.path.join(fold_dir, test_dummy_txt_name), \"r\") as in_f:\n",
    "    test_dummy_wav_names = [f.strip() for f in in_f.readlines()]\n",
    "test_dummy_wav_names = set(test_dummy_wav_names)\n",
    "print(len(test_dummy_wav_names))\n",
    "\n",
    "for a,b in combinations([train_wav_names, val_wav_names, test_query_wav_names, test_dummy_wav_names], 2):\n",
    "    print(len(a.intersection(b)))"
   ]
  },
  {
   "cell_type": "markdown",
   "id": "54a637dd",
   "metadata": {},
   "source": [
    "## Check all splits are disjoint between folds"
   ]
  },
  {
   "cell_type": "code",
   "execution_count": 10,
   "id": "f159cc68",
   "metadata": {},
   "outputs": [
    {
     "name": "stdout",
     "output_type": "stream",
     "text": [
      "train.txt\n",
      "0\n",
      "0\n",
      "0\n",
      "0\n",
      "0\n",
      "0\n",
      "0\n",
      "0\n",
      "0\n",
      "0\n",
      "val.txt\n",
      "0\n",
      "0\n",
      "0\n",
      "0\n",
      "0\n",
      "0\n",
      "0\n",
      "0\n",
      "0\n",
      "0\n",
      "test_query.txt\n",
      "0\n",
      "0\n",
      "0\n",
      "0\n",
      "0\n",
      "0\n",
      "0\n",
      "0\n",
      "0\n",
      "0\n"
     ]
    }
   ],
   "source": [
    "for txt_name in [\"train.txt\", \"val.txt\", \"test_query.txt\"]: #\"test_dummy.txt\"\n",
    "    names = []\n",
    "    for i in range(5):\n",
    "\n",
    "        fold_dir = os.path.join(folds_root_dir, str(i))\n",
    "\n",
    "        with open(os.path.join(fold_dir, txt_name), \"r\") as in_f:\n",
    "            wav_names = [f.strip() for f in in_f.readlines()]\n",
    "        names.append(set(wav_names))\n",
    "    \n",
    "    print(txt_name)\n",
    "    for a,b in combinations(names, 2):\n",
    "        print(len(a.intersection(b)))"
   ]
  },
  {
   "cell_type": "markdown",
   "id": "28b0a37f",
   "metadata": {},
   "source": [
    "## Check if seed works"
   ]
  },
  {
   "cell_type": "code",
   "execution_count": 13,
   "id": "6585e217",
   "metadata": {},
   "outputs": [
    {
     "name": "stdout",
     "output_type": "stream",
     "text": [
      "0 10000 10000 train.txt\n",
      "963\n",
      "1 10000 10000 train.txt\n",
      "975\n",
      "2 10000 10000 train.txt\n",
      "965\n",
      "3 10000 10000 train.txt\n",
      "990\n",
      "4 10000 10000 train.txt\n",
      "934\n",
      "0 1000 1000 val.txt\n",
      "7\n",
      "1 1000 1000 val.txt\n",
      "10\n",
      "2 1000 1000 val.txt\n",
      "9\n",
      "3 1000 1000 val.txt\n",
      "8\n",
      "4 1000 1000 val.txt\n",
      "7\n",
      "0 5000 5000 test_query.txt\n",
      "241\n",
      "1 5000 5000 test_query.txt\n",
      "230\n",
      "2 5000 5000 test_query.txt\n",
      "231\n",
      "3 5000 5000 test_query.txt\n",
      "224\n",
      "4 5000 5000 test_query.txt\n",
      "254\n"
     ]
    }
   ],
   "source": [
    "folds0_root_dir = \"/home/oaraz/nextcore/fingerprinting/datasets/5_fold-nafp-dataset\"\n",
    "folds1_root_dir = \"/home/oaraz/nextcore/fingerprinting/datasets/seed\"\n",
    "\n",
    "for txt_name in [\"train.txt\", \"val.txt\", \"test_query.txt\"]:\n",
    "\n",
    "    for i in range(5):\n",
    "\n",
    "        fold0_txt = os.path.join(folds0_root_dir, str(i), txt_name)\n",
    "        fold1_txt = os.path.join(folds1_root_dir, str(i), txt_name)\n",
    "\n",
    "        with open(fold0_txt, \"r\") as in_f:\n",
    "            wav0_names = set([f.strip() for f in in_f.readlines()])\n",
    "\n",
    "        with open(fold1_txt, \"r\") as in_f:\n",
    "            wav1_names = set([f.strip() for f in in_f.readlines()])\n",
    "        \n",
    "        n0 = len(wav0_names)\n",
    "        n1 = len(wav1_names)\n",
    "        if len(wav0_names.symmetric_difference(wav1_names)) != 0:\n",
    "            print(i, n0, n1, txt_name)\n",
    "            print(len(wav0_names.intersection(wav1_names)))"
   ]
  }
 ],
 "metadata": {
  "kernelspec": {
   "display_name": "Python 3 (ipykernel)",
   "language": "python",
   "name": "python3"
  },
  "language_info": {
   "codemirror_mode": {
    "name": "ipython",
    "version": 3
   },
   "file_extension": ".py",
   "mimetype": "text/x-python",
   "name": "python",
   "nbconvert_exporter": "python",
   "pygments_lexer": "ipython3",
   "version": "3.7.7"
  }
 },
 "nbformat": 4,
 "nbformat_minor": 5
}
