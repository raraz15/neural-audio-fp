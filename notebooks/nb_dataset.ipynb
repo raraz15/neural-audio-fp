{
 "cells": [
  {
   "cell_type": "code",
   "execution_count": 1,
   "metadata": {},
   "outputs": [],
   "source": [
    "%reload_ext autoreload\n",
    "%autoreload 2\n",
    "\n",
    "import os\n",
    "os.environ[\"CUDA_VISIBLE_DEVICES\"] = \"-1\"\n",
    "\n",
    "import sys\n",
    "code_dir = os.path.dirname(os.getcwd())\n",
    "sys.path.append(code_dir)\n",
    "\n",
    "import json\n",
    "import math\n",
    "from glob import glob\n",
    "from itertools import permutations\n",
    "from collections import Counter\n",
    "\n",
    "import numpy as np\n",
    "import pandas as pd\n",
    "import matplotlib.pyplot as plt\n",
    "\n",
    "import IPython.display as ipd\n",
    "\n",
    "tracks_csv_path = \"/home/oaraz/nextcore/fingerprinting/datasets/neural-audio-fp-dataset/extras/fma_info/tracks.csv\"\n",
    "genres_csv_path = \"/home/oaraz/nextcore/fingerprinting/datasets/neural-audio-fp-dataset/extras/fma_info/genres.csv\""
   ]
  },
  {
   "cell_type": "markdown",
   "metadata": {},
   "source": [
    "## Read FMA Tracks CSV"
   ]
  },
  {
   "cell_type": "code",
   "execution_count": null,
   "metadata": {},
   "outputs": [],
   "source": [
    "df_full = pd.read_csv(tracks_csv_path, low_memory=False)\n",
    "print(df_full.shape)\n",
    "df_full.head()"
   ]
  },
  {
   "cell_type": "code",
   "execution_count": null,
   "metadata": {},
   "outputs": [],
   "source": [
    "df_full.columns"
   ]
  },
  {
   "cell_type": "code",
   "execution_count": null,
   "metadata": {},
   "outputs": [],
   "source": [
    "df_full.iloc[0]"
   ]
  },
  {
   "cell_type": "code",
   "execution_count": null,
   "metadata": {},
   "outputs": [],
   "source": [
    "df_full['set'].unique()"
   ]
  },
  {
   "cell_type": "code",
   "execution_count": null,
   "metadata": {},
   "outputs": [],
   "source": [
    "print(df_full[df_full['set']==\"training\"].shape)\n",
    "print(df_full[df_full['set']==\"validation\"].shape)\n",
    "print(df_full[df_full['set']==\"test\"].shape)"
   ]
  },
  {
   "cell_type": "code",
   "execution_count": null,
   "metadata": {},
   "outputs": [],
   "source": [
    "df_full['set.1'].unique()"
   ]
  },
  {
   "cell_type": "code",
   "execution_count": null,
   "metadata": {},
   "outputs": [],
   "source": [
    "print(df_full[df_full['set.1']==\"small\"].shape)\n",
    "print(df_full[df_full['set.1']==\"medium\"].shape)\n",
    "print(df_full[df_full['set.1']==\"large\"].shape)"
   ]
  },
  {
   "cell_type": "code",
   "execution_count": null,
   "metadata": {},
   "outputs": [],
   "source": [
    "total_unique = 81574 + 17000 + 8000\n",
    "print(total_unique)"
   ]
  },
  {
   "cell_type": "markdown",
   "metadata": {},
   "source": [
    "### Understand NAFP Dataset\n",
    "all 8000 of small and 2000 from medium used for training\n",
    "500 val \n",
    "500 query\n",
    "\n",
    "total used 11000\n",
    "total different 106574"
   ]
  },
  {
   "cell_type": "code",
   "execution_count": null,
   "metadata": {},
   "outputs": [],
   "source": [
    "total_used = 10000 + 500 + 500\n",
    "print(total_used)"
   ]
  },
  {
   "cell_type": "code",
   "execution_count": null,
   "metadata": {},
   "outputs": [],
   "source": [
    "total_unique - total_used"
   ]
  },
  {
   "cell_type": "code",
   "execution_count": null,
   "metadata": {},
   "outputs": [],
   "source": [
    "100000-93458"
   ]
  },
  {
   "cell_type": "code",
   "execution_count": null,
   "metadata": {},
   "outputs": [],
   "source": [
    "set(df_full[df_full['set.1']==\"small\"].index.to_numpy()).intersection(set(df_full[df_full['set.1']==\"medium\"].index.to_numpy()))"
   ]
  },
  {
   "cell_type": "markdown",
   "metadata": {},
   "source": [
    "## Load Again Properly With known header row"
   ]
  },
  {
   "cell_type": "code",
   "execution_count": 2,
   "metadata": {},
   "outputs": [
    {
     "name": "stdout",
     "output_type": "stream",
     "text": [
      "(106574, 53)\n"
     ]
    },
    {
     "data": {
      "text/html": [
       "<div>\n",
       "<style scoped>\n",
       "    .dataframe tbody tr th:only-of-type {\n",
       "        vertical-align: middle;\n",
       "    }\n",
       "\n",
       "    .dataframe tbody tr th {\n",
       "        vertical-align: top;\n",
       "    }\n",
       "\n",
       "    .dataframe thead th {\n",
       "        text-align: right;\n",
       "    }\n",
       "</style>\n",
       "<table border=\"1\" class=\"dataframe\">\n",
       "  <thead>\n",
       "    <tr style=\"text-align: right;\">\n",
       "      <th></th>\n",
       "      <th>track_id</th>\n",
       "      <th>comments</th>\n",
       "      <th>date_created</th>\n",
       "      <th>date_released</th>\n",
       "      <th>engineer</th>\n",
       "      <th>favorites</th>\n",
       "      <th>id</th>\n",
       "      <th>information</th>\n",
       "      <th>listens</th>\n",
       "      <th>producer</th>\n",
       "      <th>...</th>\n",
       "      <th>information.1</th>\n",
       "      <th>interest</th>\n",
       "      <th>language_code</th>\n",
       "      <th>license</th>\n",
       "      <th>listens.1</th>\n",
       "      <th>lyricist</th>\n",
       "      <th>number</th>\n",
       "      <th>publisher</th>\n",
       "      <th>tags.2</th>\n",
       "      <th>title.1</th>\n",
       "    </tr>\n",
       "  </thead>\n",
       "  <tbody>\n",
       "    <tr>\n",
       "      <th>1</th>\n",
       "      <td>000002</td>\n",
       "      <td>0.0</td>\n",
       "      <td>2008-11-26 01:44:45</td>\n",
       "      <td>2009-01-05 00:00:00</td>\n",
       "      <td>NaN</td>\n",
       "      <td>4.0</td>\n",
       "      <td>1.0</td>\n",
       "      <td>&lt;p&gt;&lt;/p&gt;</td>\n",
       "      <td>6073.0</td>\n",
       "      <td>NaN</td>\n",
       "      <td>...</td>\n",
       "      <td>NaN</td>\n",
       "      <td>4656.0</td>\n",
       "      <td>en</td>\n",
       "      <td>Attribution-NonCommercial-ShareAlike 3.0 Inter...</td>\n",
       "      <td>1293.0</td>\n",
       "      <td>NaN</td>\n",
       "      <td>3.0</td>\n",
       "      <td>NaN</td>\n",
       "      <td>[]</td>\n",
       "      <td>Food</td>\n",
       "    </tr>\n",
       "    <tr>\n",
       "      <th>2</th>\n",
       "      <td>000003</td>\n",
       "      <td>0.0</td>\n",
       "      <td>2008-11-26 01:44:45</td>\n",
       "      <td>2009-01-05 00:00:00</td>\n",
       "      <td>NaN</td>\n",
       "      <td>4.0</td>\n",
       "      <td>1.0</td>\n",
       "      <td>&lt;p&gt;&lt;/p&gt;</td>\n",
       "      <td>6073.0</td>\n",
       "      <td>NaN</td>\n",
       "      <td>...</td>\n",
       "      <td>NaN</td>\n",
       "      <td>1470.0</td>\n",
       "      <td>en</td>\n",
       "      <td>Attribution-NonCommercial-ShareAlike 3.0 Inter...</td>\n",
       "      <td>514.0</td>\n",
       "      <td>NaN</td>\n",
       "      <td>4.0</td>\n",
       "      <td>NaN</td>\n",
       "      <td>[]</td>\n",
       "      <td>Electric Ave</td>\n",
       "    </tr>\n",
       "    <tr>\n",
       "      <th>3</th>\n",
       "      <td>000005</td>\n",
       "      <td>0.0</td>\n",
       "      <td>2008-11-26 01:44:45</td>\n",
       "      <td>2009-01-05 00:00:00</td>\n",
       "      <td>NaN</td>\n",
       "      <td>4.0</td>\n",
       "      <td>1.0</td>\n",
       "      <td>&lt;p&gt;&lt;/p&gt;</td>\n",
       "      <td>6073.0</td>\n",
       "      <td>NaN</td>\n",
       "      <td>...</td>\n",
       "      <td>NaN</td>\n",
       "      <td>1933.0</td>\n",
       "      <td>en</td>\n",
       "      <td>Attribution-NonCommercial-ShareAlike 3.0 Inter...</td>\n",
       "      <td>1151.0</td>\n",
       "      <td>NaN</td>\n",
       "      <td>6.0</td>\n",
       "      <td>NaN</td>\n",
       "      <td>[]</td>\n",
       "      <td>This World</td>\n",
       "    </tr>\n",
       "    <tr>\n",
       "      <th>4</th>\n",
       "      <td>000010</td>\n",
       "      <td>0.0</td>\n",
       "      <td>2008-11-26 01:45:08</td>\n",
       "      <td>2008-02-06 00:00:00</td>\n",
       "      <td>NaN</td>\n",
       "      <td>4.0</td>\n",
       "      <td>6.0</td>\n",
       "      <td>NaN</td>\n",
       "      <td>47632.0</td>\n",
       "      <td>NaN</td>\n",
       "      <td>...</td>\n",
       "      <td>NaN</td>\n",
       "      <td>54881.0</td>\n",
       "      <td>en</td>\n",
       "      <td>Attribution-NonCommercial-NoDerivatives (aka M...</td>\n",
       "      <td>50135.0</td>\n",
       "      <td>NaN</td>\n",
       "      <td>1.0</td>\n",
       "      <td>NaN</td>\n",
       "      <td>[]</td>\n",
       "      <td>Freeway</td>\n",
       "    </tr>\n",
       "    <tr>\n",
       "      <th>5</th>\n",
       "      <td>000020</td>\n",
       "      <td>0.0</td>\n",
       "      <td>2008-11-26 01:45:05</td>\n",
       "      <td>2009-01-06 00:00:00</td>\n",
       "      <td>NaN</td>\n",
       "      <td>2.0</td>\n",
       "      <td>4.0</td>\n",
       "      <td>&lt;p&gt; \"spiritual songs\" from Nicky Cook&lt;/p&gt;</td>\n",
       "      <td>2710.0</td>\n",
       "      <td>NaN</td>\n",
       "      <td>...</td>\n",
       "      <td>NaN</td>\n",
       "      <td>978.0</td>\n",
       "      <td>en</td>\n",
       "      <td>Attribution-NonCommercial-NoDerivatives (aka M...</td>\n",
       "      <td>361.0</td>\n",
       "      <td>NaN</td>\n",
       "      <td>3.0</td>\n",
       "      <td>NaN</td>\n",
       "      <td>[]</td>\n",
       "      <td>Spiritual Level</td>\n",
       "    </tr>\n",
       "  </tbody>\n",
       "</table>\n",
       "<p>5 rows × 53 columns</p>\n",
       "</div>"
      ],
      "text/plain": [
       "  track_id  comments         date_created        date_released engineer  \\\n",
       "1   000002       0.0  2008-11-26 01:44:45  2009-01-05 00:00:00      NaN   \n",
       "2   000003       0.0  2008-11-26 01:44:45  2009-01-05 00:00:00      NaN   \n",
       "3   000005       0.0  2008-11-26 01:44:45  2009-01-05 00:00:00      NaN   \n",
       "4   000010       0.0  2008-11-26 01:45:08  2008-02-06 00:00:00      NaN   \n",
       "5   000020       0.0  2008-11-26 01:45:05  2009-01-06 00:00:00      NaN   \n",
       "\n",
       "   favorites   id                                information  listens  \\\n",
       "1        4.0  1.0                                    <p></p>   6073.0   \n",
       "2        4.0  1.0                                    <p></p>   6073.0   \n",
       "3        4.0  1.0                                    <p></p>   6073.0   \n",
       "4        4.0  6.0                                        NaN  47632.0   \n",
       "5        2.0  4.0  <p> \"spiritual songs\" from Nicky Cook</p>   2710.0   \n",
       "\n",
       "  producer  ... information.1 interest  language_code  \\\n",
       "1      NaN  ...           NaN   4656.0             en   \n",
       "2      NaN  ...           NaN   1470.0             en   \n",
       "3      NaN  ...           NaN   1933.0             en   \n",
       "4      NaN  ...           NaN  54881.0             en   \n",
       "5      NaN  ...           NaN    978.0             en   \n",
       "\n",
       "                                             license listens.1 lyricist  \\\n",
       "1  Attribution-NonCommercial-ShareAlike 3.0 Inter...    1293.0      NaN   \n",
       "2  Attribution-NonCommercial-ShareAlike 3.0 Inter...     514.0      NaN   \n",
       "3  Attribution-NonCommercial-ShareAlike 3.0 Inter...    1151.0      NaN   \n",
       "4  Attribution-NonCommercial-NoDerivatives (aka M...   50135.0      NaN   \n",
       "5  Attribution-NonCommercial-NoDerivatives (aka M...     361.0      NaN   \n",
       "\n",
       "  number publisher  tags.2          title.1  \n",
       "1    3.0       NaN      []             Food  \n",
       "2    4.0       NaN      []     Electric Ave  \n",
       "3    6.0       NaN      []       This World  \n",
       "4    1.0       NaN      []          Freeway  \n",
       "5    3.0       NaN      []  Spiritual Level  \n",
       "\n",
       "[5 rows x 53 columns]"
      ]
     },
     "execution_count": 2,
     "metadata": {},
     "output_type": "execute_result"
    }
   ],
   "source": [
    "df = pd.read_csv(tracks_csv_path, low_memory=False, header=1)\n",
    "df.rename(columns={'Unnamed: 0': 'track_id'}, inplace=True)\n",
    "# To match the fodler structure\n",
    "df['track_id'] = df['track_id'].apply(lambda x: x.zfill(6))\n",
    "df.drop(0, axis=0, inplace=True)\n",
    "print(df.shape)\n",
    "df.head()"
   ]
  },
  {
   "cell_type": "code",
   "execution_count": 3,
   "metadata": {},
   "outputs": [],
   "source": [
    "drop_cols = [\n",
    "    \"date_created\",\n",
    "    \"date_released\",\n",
    "    \"engineer\",\n",
    "    \"favorites\",\n",
    "    \"id\",\n",
    "    \"producer\",\n",
    "    \"tags\",\n",
    "    \"active_year_begin\",\n",
    "    \"active_year_end\",\n",
    "    \"associated_labels\",\n",
    "    \"comments.1\",\n",
    "    \"date_created.1\",\n",
    "    \"favorites.1\",\n",
    "    \"id.1\",\n",
    "    \"latitude\",\n",
    "    \"location\",\n",
    "    \"longitude\",\n",
    "    \"related_projects\",\n",
    "    \"tags.1\",\n",
    "    \"website\",\n",
    "    \"wikipedia_page\",\n",
    "    \"comments.2\",\n",
    "    \"date_created.2\",\n",
    "    \"date_recorded\",\n",
    "    \"favorites.2\",\n",
    "    \"information.1\",\n",
    "    \"interest\",\n",
    "    \"language_code\",\n",
    "    \"license\",\n",
    "    \"listens.1\",\n",
    "    \"lyricist\",\n",
    "    \"number\",\n",
    "    \"publisher\",\n",
    "    \"tags.2\",\n",
    "    \"listens\",\n",
    "]\n",
    "df.drop(labels=drop_cols, axis=1, inplace=True)"
   ]
  },
  {
   "cell_type": "code",
   "execution_count": 4,
   "metadata": {},
   "outputs": [
    {
     "data": {
      "text/plain": [
       "Index(['track_id', 'comments', 'information', 'title', 'tracks', 'type', 'bio',\n",
       "       'members', 'name', 'split', 'subset', 'bit_rate', 'composer',\n",
       "       'duration', 'genre_top', 'genres', 'genres_all', 'title.1'],\n",
       "      dtype='object')"
      ]
     },
     "execution_count": 4,
     "metadata": {},
     "output_type": "execute_result"
    }
   ],
   "source": [
    "df.columns"
   ]
  },
  {
   "cell_type": "code",
   "execution_count": 5,
   "metadata": {},
   "outputs": [
    {
     "data": {
      "text/plain": [
       "array(['Hip-Hop', 'Rock', 'Folk', 'Jazz', 'Electronic', 'Experimental',\n",
       "       'Soul-RnB', 'Pop', 'Blues', 'Spoken', 'Country', 'Classical',\n",
       "       'Old-Time / Historic', 'Instrumental', 'International',\n",
       "       'Easy Listening'], dtype=object)"
      ]
     },
     "execution_count": 5,
     "metadata": {},
     "output_type": "execute_result"
    }
   ],
   "source": [
    "df[df['subset']==\"medium\"]['genre_top'].unique()"
   ]
  },
  {
   "cell_type": "code",
   "execution_count": 6,
   "metadata": {},
   "outputs": [
    {
     "name": "stdout",
     "output_type": "stream",
     "text": [
      "['Hip-Hop', 'Pop', 'None', 'Rock', 'Experimental', 'Folk', 'Jazz', 'Electronic', 'Spoken', 'International', 'Soul-RnB', 'Blues', 'Country', 'Classical', 'Old-Time / Historic', 'Instrumental', 'Easy Listening']\n"
     ]
    }
   ],
   "source": [
    "all_top_genres = df['genre_top'].unique().tolist()\n",
    "all_top_genres.pop(2)\n",
    "all_top_genres.insert(2, \"None\")\n",
    "print(all_top_genres)\n",
    "\n",
    "all_top_genre_counts = df['genre_top'].fillna('None').value_counts().to_dict()\n",
    "all_top_genre_counts = {k: v for k,v in sorted(all_top_genre_counts.items())}"
   ]
  },
  {
   "cell_type": "code",
   "execution_count": null,
   "metadata": {},
   "outputs": [],
   "source": [
    "print(df[(df['subset']==\"large\") &  (df['genre_top'].isna())].shape)"
   ]
  },
  {
   "cell_type": "markdown",
   "metadata": {},
   "source": [
    "## Genre CSV"
   ]
  },
  {
   "cell_type": "code",
   "execution_count": 33,
   "metadata": {},
   "outputs": [
    {
     "name": "stdout",
     "output_type": "stream",
     "text": [
      "(163, 4)\n"
     ]
    },
    {
     "data": {
      "text/html": [
       "<div>\n",
       "<style scoped>\n",
       "    .dataframe tbody tr th:only-of-type {\n",
       "        vertical-align: middle;\n",
       "    }\n",
       "\n",
       "    .dataframe tbody tr th {\n",
       "        vertical-align: top;\n",
       "    }\n",
       "\n",
       "    .dataframe thead th {\n",
       "        text-align: right;\n",
       "    }\n",
       "</style>\n",
       "<table border=\"1\" class=\"dataframe\">\n",
       "  <thead>\n",
       "    <tr style=\"text-align: right;\">\n",
       "      <th></th>\n",
       "      <th>#tracks</th>\n",
       "      <th>parent</th>\n",
       "      <th>title</th>\n",
       "      <th>top_level</th>\n",
       "    </tr>\n",
       "    <tr>\n",
       "      <th>genre_id</th>\n",
       "      <th></th>\n",
       "      <th></th>\n",
       "      <th></th>\n",
       "      <th></th>\n",
       "    </tr>\n",
       "  </thead>\n",
       "  <tbody>\n",
       "    <tr>\n",
       "      <th>1</th>\n",
       "      <td>8693</td>\n",
       "      <td>38</td>\n",
       "      <td>Avant-Garde</td>\n",
       "      <td>38</td>\n",
       "    </tr>\n",
       "    <tr>\n",
       "      <th>2</th>\n",
       "      <td>5271</td>\n",
       "      <td>0</td>\n",
       "      <td>International</td>\n",
       "      <td>2</td>\n",
       "    </tr>\n",
       "    <tr>\n",
       "      <th>3</th>\n",
       "      <td>1752</td>\n",
       "      <td>0</td>\n",
       "      <td>Blues</td>\n",
       "      <td>3</td>\n",
       "    </tr>\n",
       "    <tr>\n",
       "      <th>4</th>\n",
       "      <td>4126</td>\n",
       "      <td>0</td>\n",
       "      <td>Jazz</td>\n",
       "      <td>4</td>\n",
       "    </tr>\n",
       "    <tr>\n",
       "      <th>5</th>\n",
       "      <td>4106</td>\n",
       "      <td>0</td>\n",
       "      <td>Classical</td>\n",
       "      <td>5</td>\n",
       "    </tr>\n",
       "    <tr>\n",
       "      <th>...</th>\n",
       "      <td>...</td>\n",
       "      <td>...</td>\n",
       "      <td>...</td>\n",
       "      <td>...</td>\n",
       "    </tr>\n",
       "    <tr>\n",
       "      <th>1032</th>\n",
       "      <td>60</td>\n",
       "      <td>102</td>\n",
       "      <td>Turkish</td>\n",
       "      <td>2</td>\n",
       "    </tr>\n",
       "    <tr>\n",
       "      <th>1060</th>\n",
       "      <td>30</td>\n",
       "      <td>46</td>\n",
       "      <td>Tango</td>\n",
       "      <td>2</td>\n",
       "    </tr>\n",
       "    <tr>\n",
       "      <th>1156</th>\n",
       "      <td>26</td>\n",
       "      <td>130</td>\n",
       "      <td>Fado</td>\n",
       "      <td>2</td>\n",
       "    </tr>\n",
       "    <tr>\n",
       "      <th>1193</th>\n",
       "      <td>72</td>\n",
       "      <td>763</td>\n",
       "      <td>Christmas</td>\n",
       "      <td>38</td>\n",
       "    </tr>\n",
       "    <tr>\n",
       "      <th>1235</th>\n",
       "      <td>14938</td>\n",
       "      <td>0</td>\n",
       "      <td>Instrumental</td>\n",
       "      <td>1235</td>\n",
       "    </tr>\n",
       "  </tbody>\n",
       "</table>\n",
       "<p>163 rows × 4 columns</p>\n",
       "</div>"
      ],
      "text/plain": [
       "          #tracks  parent          title  top_level\n",
       "genre_id                                           \n",
       "1            8693      38    Avant-Garde         38\n",
       "2            5271       0  International          2\n",
       "3            1752       0          Blues          3\n",
       "4            4126       0           Jazz          4\n",
       "5            4106       0      Classical          5\n",
       "...           ...     ...            ...        ...\n",
       "1032           60     102        Turkish          2\n",
       "1060           30      46          Tango          2\n",
       "1156           26     130           Fado          2\n",
       "1193           72     763      Christmas         38\n",
       "1235        14938       0   Instrumental       1235\n",
       "\n",
       "[163 rows x 4 columns]"
      ]
     },
     "execution_count": 33,
     "metadata": {},
     "output_type": "execute_result"
    }
   ],
   "source": [
    "df_genres_full = pd.read_csv(genres_csv_path, index_col=0)\n",
    "print(df_genres_full.shape)\n",
    "df_genres_full"
   ]
  },
  {
   "cell_type": "code",
   "execution_count": 34,
   "metadata": {},
   "outputs": [
    {
     "data": {
      "text/plain": [
       "16"
      ]
     },
     "execution_count": 34,
     "metadata": {},
     "output_type": "execute_result"
    }
   ],
   "source": [
    "len(sorted(df_genres_full['top_level'].unique()))"
   ]
  },
  {
   "cell_type": "code",
   "execution_count": 31,
   "metadata": {},
   "outputs": [
    {
     "data": {
      "text/plain": [
       "40"
      ]
     },
     "execution_count": 31,
     "metadata": {},
     "output_type": "execute_result"
    }
   ],
   "source": [
    "len(sorted(df_genres_full['parent'].unique()))"
   ]
  },
  {
   "cell_type": "markdown",
   "metadata": {},
   "source": [
    "## Examine Your Splits"
   ]
  },
  {
   "cell_type": "code",
   "execution_count": 11,
   "metadata": {},
   "outputs": [],
   "source": [
    "five_fold_dir = \"/home/oaraz/nextcore/fingerprinting/datasets/5_fold-fma_full_subset/\"\n",
    "\n",
    "fold_analysis_dir = os.path.join(five_fold_dir, \"fold_analysis\")\n",
    "os.makedirs(fold_analysis_dir, exist_ok=True)"
   ]
  },
  {
   "cell_type": "code",
   "execution_count": 11,
   "metadata": {},
   "outputs": [
    {
     "data": {
      "text/plain": [
       "{'Blues': 110,\n",
       " 'Classical': 1230,\n",
       " 'Country': 194,\n",
       " 'Easy Listening': 24,\n",
       " 'Electronic': 9372,\n",
       " 'Experimental': 10608,\n",
       " 'Folk': 2803,\n",
       " 'Hip-Hop': 3552,\n",
       " 'Instrumental': 2079,\n",
       " 'International': 1389,\n",
       " 'Jazz': 571,\n",
       " 'None': 56976,\n",
       " 'Old-Time / Historic': 554,\n",
       " 'Pop': 2332,\n",
       " 'Rock': 14182,\n",
       " 'Soul-RnB': 175,\n",
       " 'Spoken': 423}"
      ]
     },
     "execution_count": 11,
     "metadata": {},
     "output_type": "execute_result"
    }
   ],
   "source": [
    "all_top_genre_counts"
   ]
  },
  {
   "cell_type": "code",
   "execution_count": 10,
   "metadata": {
    "scrolled": false
   },
   "outputs": [],
   "source": [
    "for fold_id in range(5):\n",
    "\n",
    "    fold_dir = os.path.join(five_fold_dir, str(fold_id))\n",
    "\n",
    "    train_txt = os.path.join(fold_dir, \"train.txt\")\n",
    "    test_query_txt = os.path.join(fold_dir, \"test_query.txt\")\n",
    "    #test_dummy_txt = os.path.join(fold_dir, \"test_dummy.txt\")\n",
    "\n",
    "    # Train Set\n",
    "    with open(train_txt, \"r\") as in_f:\n",
    "        train_paths = [l.strip() for l in in_f.readlines()]\n",
    "    train_track_ids = [os.path.splitext(os.path.basename(path))[0] for path in train_paths]\n",
    "    train_top_genres = []\n",
    "    for track_id in train_track_ids:\n",
    "        genre = df[df['track_id'] == track_id]['genre_top']\n",
    "        if genre.isna().item():\n",
    "            genre = \"None\"\n",
    "        else:\n",
    "            genre = genre.item()\n",
    "        train_top_genres.append(genre)\n",
    "\n",
    "    # Test Query\n",
    "    with open(test_query_txt, \"r\") as in_f:\n",
    "        test_query_paths = [l.strip() for l in in_f.readlines()]\n",
    "    test_query_track_ids = [os.path.splitext(os.path.basename(path))[0] for path in test_query_paths]\n",
    "    test_query_top_genres = []\n",
    "    for track_id in test_query_track_ids:\n",
    "        genre = df[df['track_id'] == track_id]['genre_top']\n",
    "        if genre.isna().item():\n",
    "            genre = \"None\"\n",
    "        else:\n",
    "            genre = genre.item()\n",
    "        test_query_top_genres.append(genre) \n",
    "\n",
    "    # Convert to counter and add missing genres if there are\n",
    "    train_top_genre_counter = Counter(train_top_genres)\n",
    "    test_query_top_genre_counter = Counter(test_query_top_genres)\n",
    "    for genre in all_top_genres:\n",
    "        if genre not in train_top_genre_counter.keys():\n",
    "            train_top_genre_counter[genre] = 0\n",
    "        if genre not in test_query_top_genre_counter.keys():\n",
    "            test_query_top_genre_counter[genre] = 0\n",
    "\n",
    "    # Sort by genre\n",
    "    train_top_genre_counter = {k: v for k,v in sorted(train_top_genre_counter.items())}\n",
    "    test_query_top_genre_counter = {k: v for k,v in sorted(test_query_top_genre_counter.items())}\n",
    "    \n",
    "    fig,ax = plt.subplots(nrows=3, figsize=(15,12), constrained_layout=True,)\n",
    "\n",
    "    fig.suptitle(f\"Top Genre Distribution of Fold{fold_id}\")\n",
    "\n",
    "    ax[0].bar(all_top_genre_counts.keys(), all_top_genre_counts.values())\n",
    "    ax[0].set_title(\"FMA Large\")\n",
    "\n",
    "    ax[1].bar(train_top_genre_counter.keys(), train_top_genre_counter.values())\n",
    "    ax[1].set_title(\"Training Set\")\n",
    "\n",
    "    ax[2].bar(test_query_top_genre_counter.keys(), test_query_top_genre_counter.values())\n",
    "    ax[2].set_title(\"Test Query Set\")\n",
    "\n",
    "    for _x in ax:\n",
    "        _x.grid()\n",
    "        _x.set_ylabel(\"#Tracks (log)\")\n",
    "        _x.set_xlabel(\"Genres\")\n",
    "        _x.tick_params(axis='x', labelrotation = 15)\n",
    "        _x.set_yscale(\"log\")\n",
    "        _x.set_yticks(10**np.arange(6))\n",
    "\n",
    "    fig.savefig(os.path.join(fold_analysis_dir, f\"{fold_id}.png\"))\n",
    "\n",
    "    plt.close()"
   ]
  },
  {
   "cell_type": "code",
   "execution_count": null,
   "metadata": {},
   "outputs": [],
   "source": [
    "fig,ax = plt.subplots(nrows=3, figsize=(15,12), constrained_layout=True,)\n",
    "\n",
    "fig.suptitle(f\"Top Genre Distribution of Fold{fold_id}\")\n",
    "\n",
    "ax[0].bar(all_top_genre_counts.keys(), all_top_genre_counts.values())\n",
    "ax[0].set_title(\"FMA Large\")\n",
    "\n",
    "ax[1].bar(train_top_genre_counter.keys(), train_top_genre_counter.values())\n",
    "ax[1].set_title(\"Training Set\")\n",
    "\n",
    "ax[2].bar(test_query_top_genre_counter.keys(), test_query_top_genre_counter.values())\n",
    "ax[2].set_title(\"Test Query Set\")\n",
    "\n",
    "for _x in ax:\n",
    "    _x.grid()\n",
    "    _x.set_ylabel(\"#Tracks (log)\")\n",
    "    _x.set_xlabel(\"Genres\")\n",
    "    _x.tick_params(axis='x', labelrotation = 15)\n",
    "    _x.set_yscale(\"log\")\n",
    "    _x.set_yticks(10**np.arange(6))\n",
    "\n",
    "plt.show()"
   ]
  },
  {
   "cell_type": "markdown",
   "metadata": {},
   "source": [
    "## Sample Here"
   ]
  },
  {
   "cell_type": "code",
   "execution_count": 7,
   "metadata": {},
   "outputs": [],
   "source": [
    "from sklearn.model_selection import train_test_split"
   ]
  },
  {
   "cell_type": "code",
   "execution_count": 12,
   "metadata": {},
   "outputs": [],
   "source": [
    "def count_genres(df):\n",
    "    top_genre_counts = df['genre_top'].fillna('None').value_counts().to_dict()\n",
    "    top_genre_counts = {k: v for k,v in sorted(top_genre_counts.items())}\n",
    "    return top_genre_counts"
   ]
  },
  {
   "cell_type": "code",
   "execution_count": 14,
   "metadata": {},
   "outputs": [
    {
     "name": "stdout",
     "output_type": "stream",
     "text": [
      "(16000, 18)\n",
      "(5000, 18)\n",
      "(10000, 18)\n",
      "(1000, 18)\n"
     ]
    }
   ],
   "source": [
    "train_val_test_df = df[df['subset']==\"medium\"].sample(n=16000, random_state=27)\n",
    "print(train_val_test_df.shape)\n",
    "train_val_test_df.head()\n",
    "\n",
    "train_val_df, test_query_df = train_test_split(train_val_test_df, test_size=5000, random_state=27)\n",
    "print(test_query_df.shape)\n",
    "train_df, val_df = train_test_split(train_val_df, test_size=1000, random_state=27)\n",
    "print(train_df.shape)\n",
    "print(val_df.shape)"
   ]
  },
  {
   "cell_type": "code",
   "execution_count": 18,
   "metadata": {},
   "outputs": [],
   "source": [
    "train_top_genre_counter = count_genres(train_df)\n",
    "val_top_genre_counter = count_genres(val_df)\n",
    "test_query_top_genre_counter = count_genres(test_query_df)"
   ]
  },
  {
   "cell_type": "code",
   "execution_count": 22,
   "metadata": {},
   "outputs": [
    {
     "data": {
      "image/png": "[encoded data removed]",
      "text/plain": [
       "<Figure size 1500x1200 with 3 Axes>"
      ]
     },
     "metadata": {},
     "output_type": "display_data"
    }
   ],
   "source": [
    "fig,ax = plt.subplots(nrows=3, figsize=(15,12), constrained_layout=True)\n",
    "\n",
    "ax = np.array(ax).flatten()\n",
    "\n",
    "fig.suptitle(f\"Top Genre Distribution of FMA Large and Our Splits\")\n",
    "\n",
    "ax[0].bar(all_top_genre_counts.keys(), all_top_genre_counts.values())\n",
    "ax[0].set_title(\"FMA Large\")\n",
    "\n",
    "ax[1].bar(train_top_genre_counter.keys(), train_top_genre_counter.values(), label=\"Train\")\n",
    "ax[1].bar(val_top_genre_counter.keys(), val_top_genre_counter.values(), color=\"orange\", label=\"Validation\")\n",
    "ax[1].set_title(\"Development Set\")\n",
    "ax[1].legend()\n",
    "\n",
    "ax[2].bar(test_query_top_genre_counter.keys(), test_query_top_genre_counter.values())\n",
    "ax[2].set_title(\"Test Query Set\")\n",
    "\n",
    "for _x in ax:\n",
    "    _x.grid()\n",
    "    _x.set_ylabel(\"#Tracks (log)\")\n",
    "    _x.set_xlabel(\"Genres\")\n",
    "    _x.tick_params(axis='x', labelrotation=15)\n",
    "    _x.set_yscale(\"log\")\n",
    "    _x.set_yticks(10**np.arange(6))\n",
    "\n",
    "plt.show()"
   ]
  },
  {
   "cell_type": "markdown",
   "metadata": {},
   "source": [
    "## Examine the NAFP Splits, Find Missing tracks"
   ]
  },
  {
   "cell_type": "code",
   "execution_count": null,
   "metadata": {},
   "outputs": [],
   "source": [
    "import glob\n",
    "import os\n",
    "from itertools import combinations\n",
    "import random"
   ]
  },
  {
   "cell_type": "code",
   "execution_count": null,
   "metadata": {},
   "outputs": [],
   "source": [
    "music_dir = \"/home/oaraz/nextcore/fingerprinting/datasets/neural-audio-fp-dataset/music\"\n",
    "\n",
    "train_dir = os.path.join(music_dir, \"train-10k-30s\")\n",
    "val_dir = os.path.join(music_dir, \"val-query-db-500-30s\")\n",
    "test_dummy_dir = os.path.join(music_dir, \"test-dummy-db-100k-full/fma_full\")\n",
    "test_query_db_dir = os.path.join(music_dir, \"test-query-db-500-30s/db\")"
   ]
  },
  {
   "cell_type": "code",
   "execution_count": null,
   "metadata": {},
   "outputs": [],
   "source": [
    "train_fps = sorted(glob.glob(os.path.join(train_dir, \"**/*.wav\"), recursive=True))\n",
    "val_fps = sorted(glob.glob(os.path.join(val_dir, \"**/*.wav\"), recursive=True))\n",
    "test_dummy_fps = sorted(glob.glob(os.path.join(test_dummy_dir, \"**/*.wav\"), recursive=True))\n",
    "test_query_db_fps = sorted(glob.glob(os.path.join(test_query_db_dir, \"**/*.wav\"), recursive=True))"
   ]
  },
  {
   "cell_type": "code",
   "execution_count": null,
   "metadata": {},
   "outputs": [],
   "source": [
    "train_fnames = set([os.path.basename(fp) for fp in train_fps])\n",
    "print(len(train_fnames))\n",
    "val_fnames = set([os.path.basename(fp) for fp in val_fps])\n",
    "print(len(val_fnames))\n",
    "test_dummy_fnames = set([os.path.basename(fp) for fp in test_dummy_fps])\n",
    "print(len(test_dummy_fnames))\n",
    "test_query_db_fnames = set([os.path.basename(fp) for fp in test_query_db_fps])\n",
    "print(len(test_query_db_fnames))"
   ]
  },
  {
   "cell_type": "code",
   "execution_count": null,
   "metadata": {},
   "outputs": [],
   "source": [
    "required = 100000 - len(test_dummy_fnames)\n",
    "print(required)"
   ]
  },
  {
   "cell_type": "code",
   "execution_count": null,
   "metadata": {},
   "outputs": [],
   "source": [
    "for a,b in combinations([('train', train_fnames), ('val', val_fnames), ('test_dummy', test_dummy_fnames), ('test_query', test_query_db_fnames)], 2):\n",
    "    print(a[0], b[0], len(a[1].intersection(b[1])))"
   ]
  },
  {
   "cell_type": "code",
   "execution_count": null,
   "metadata": {},
   "outputs": [],
   "source": [
    "train_val = train_fnames.union(val_fnames)\n",
    "print(len(train_val))\n",
    "\n",
    "missing_ids = random.sample(list(train_val), k=required)\n",
    "print(len(missing_ids))\n",
    "print(len(set(missing_ids).intersection(test_dummy_fnames)))\n",
    "\n",
    "print(len(set(missing_ids).intersection(test_query_db_fnames)))"
   ]
  },
  {
   "cell_type": "code",
   "execution_count": null,
   "metadata": {},
   "outputs": [],
   "source": []
  },
  {
   "cell_type": "code",
   "execution_count": null,
   "metadata": {},
   "outputs": [],
   "source": [
    "with open(\"/home/oaraz/nextcore/fingerprinting/datasets/neural-audio-fp-dataset-missing_6542/missing_ids.txt\", \"w\") as o_f:\n",
    "    o_f.write(\"\\n\".join(missing_ids))"
   ]
  },
  {
   "cell_type": "markdown",
   "metadata": {},
   "source": [
    "for fnames in [train_fnames, val_fnames, test_dummy_fnames, test_query_db_fnames]:\n",
    "    for fname in fnames:\n",
    "        fname = os.path.splitext(fname)[0]\n",
    "        if df[df['track_id']==int(fname)].size==0:\n",
    "            print(\"wtf\")"
   ]
  },
  {
   "cell_type": "markdown",
   "metadata": {},
   "source": [
    "## Move files"
   ]
  },
  {
   "cell_type": "code",
   "execution_count": null,
   "metadata": {},
   "outputs": [],
   "source": [
    "with open(\"/home/oaraz/nextcore/fingerprinting/datasets/neural-audio-fp-dataset-missing_6542/missing_ids.txt\", \"r\") as i_f:\n",
    "    missing_ids = [id.strip() for id in i_f.readlines()]\n",
    "for id in missing_ids:\n",
    "    if id == \"\":\n",
    "        print(\"wtf\")"
   ]
  },
  {
   "cell_type": "code",
   "execution_count": null,
   "metadata": {},
   "outputs": [],
   "source": [
    "missing_ids[:10]"
   ]
  },
  {
   "cell_type": "code",
   "execution_count": null,
   "metadata": {},
   "outputs": [],
   "source": [
    "with open(\"/home/oaraz/nextcore/fingerprinting/datasets/neural-audio-fp-dataset-missing_6542/missing_ids-source_paths.txt\", \"w\") as o_f:\n",
    "    for id in missing_ids:\n",
    "        id = os.path.splitext(id)[0]\n",
    "        source_path = os.path.join(id[:3], f\"{id}.mp3\") # \"/mnt/mtgdb-audio/incoming/fma/audio\"\n",
    "        o_f.write(f\"{source_path}\\n\")"
   ]
  },
  {
   "cell_type": "code",
   "execution_count": null,
   "metadata": {},
   "outputs": [],
   "source": [
    "source_path"
   ]
  },
  {
   "cell_type": "markdown",
   "metadata": {},
   "source": [
    "## test_ids"
   ]
  },
  {
   "cell_type": "code",
   "execution_count": null,
   "metadata": {},
   "outputs": [],
   "source": [
    "import numpy as np\n",
    "import matplotlib.pyplot as plt"
   ]
  },
  {
   "cell_type": "code",
   "execution_count": null,
   "metadata": {},
   "outputs": [],
   "source": [
    "test_ids_path = \"/home/oaraz/nextcore/fingerprinting/neural-audio-fp/eval/test_ids_icassp2021.npy\"\n",
    "test_ids = np.load(test_ids_path)"
   ]
  },
  {
   "cell_type": "code",
   "execution_count": null,
   "metadata": {},
   "outputs": [],
   "source": [
    "boundaries_path = \"/home/oaraz/nextcore/fingerprinting/neural-audio-fp/logs/emb/640_lamb/101/db-track_boundaries.npy\"\n",
    "boundaries = np.load(boundaries_path)"
   ]
  },
  {
   "cell_type": "code",
   "execution_count": null,
   "metadata": {},
   "outputs": [],
   "source": [
    "counter = {n: 0 for n in range(500)}\n",
    "for test_id in test_ids:\n",
    "    track_idx = np.where((boundaries[:,0]<=test_id) & (boundaries[:,1]>=test_id))[0][0]\n",
    "    counter[track_idx] += 1"
   ]
  },
  {
   "cell_type": "code",
   "execution_count": null,
   "metadata": {},
   "outputs": [],
   "source": [
    "sum([1 if c==0 else 0 for c in counter.values()])"
   ]
  },
  {
   "cell_type": "code",
   "execution_count": null,
   "metadata": {},
   "outputs": [],
   "source": [
    "np.median(list(counter.values()))"
   ]
  },
  {
   "cell_type": "code",
   "execution_count": null,
   "metadata": {},
   "outputs": [],
   "source": [
    "max(counter.values())"
   ]
  },
  {
   "cell_type": "code",
   "execution_count": null,
   "metadata": {},
   "outputs": [],
   "source": [
    "x = list(counter.keys())\n",
    "y = list(counter.values())\n",
    "fig, ax = plt.subplots(figsize=(20, 10))\n",
    "ax.bar(x, y)\n",
    "ax.grid()\n",
    "plt.show()"
   ]
  },
  {
   "cell_type": "code",
   "execution_count": null,
   "metadata": {},
   "outputs": [],
   "source": [
    "test_seq_len = [1, 3, 5, 9, 15, 19]\n",
    "\n",
    "test_ids = []\n",
    "for s,e in boundaries:\n",
    "    # Cut the query into segments of test_seq_len\n",
    "    # If the last segment is shorter than test_seq_len, ignore it\n",
    "    test_ids.append(np.arange(s, e+1-test_seq_len[-1], 11)) # end is inclusive\n",
    "test_ids = np.concatenate(test_ids)\n",
    "print(len(test_ids))\n",
    "\n",
    "counter = {n: 0 for n in range(500)}\n",
    "for test_id in test_ids:\n",
    "    track_idx = np.where((boundaries[:,0]<=test_id) & (boundaries[:,1]>=test_id))[0][0]\n",
    "    counter[track_idx] += 1\n",
    "print(sum([1 if c==0 else 0 for c in counter.values()]))\n",
    "\n",
    "x = list(counter.keys())\n",
    "y = list(counter.values())\n",
    "fig, ax = plt.subplots(figsize=(20, 10))\n",
    "ax.bar(x, y)\n",
    "ax.grid()\n",
    "plt.show()"
   ]
  },
  {
   "cell_type": "code",
   "execution_count": null,
   "metadata": {},
   "outputs": [],
   "source": [
    "test_seq_len = [1, 3, 5, 9, 15, 19]\n",
    "\n",
    "test_ids = []\n",
    "for s,e in boundaries:\n",
    "    # Cut the query into segments of test_seq_len\n",
    "    # If the last segment is shorter than test_seq_len, ignore it\n",
    "    test_ids.append(np.arange(s, e+1-test_seq_len[-1], 5)) # end is inclusive\n",
    "test_ids = np.concatenate(test_ids)\n",
    "\n",
    "print(len(test_ids))\n",
    "\n",
    "counter = {n: 0 for n in range(500)}\n",
    "for test_id in test_ids:\n",
    "    track_idx = np.where((boundaries[:,0]<=test_id) & (boundaries[:,1]>=test_id))[0][0]\n",
    "    counter[track_idx] += 1\n",
    "\n",
    "x = list(counter.keys())\n",
    "y = list(counter.values())\n",
    "fig, ax = plt.subplots(figsize=(20, 10))\n",
    "ax.bar(x, y)\n",
    "ax.grid()\n",
    "plt.show()"
   ]
  },
  {
   "cell_type": "markdown",
   "metadata": {},
   "source": [
    "### Check if boundaries are preserved"
   ]
  },
  {
   "cell_type": "code",
   "execution_count": null,
   "metadata": {},
   "outputs": [],
   "source": [
    "test_ids_path = \"/home/oaraz/nextcore/fingerprinting/neural-audio-fp/eval/test_ids_icassp2021.npy\"\n",
    "test_ids = np.load(test_ids_path)\n",
    "\n",
    "boundaries_path = \"/home/oaraz/nextcore/fingerprinting/neural-audio-fp/logs/emb/640_lamb/101/db-track_boundaries.npy\"\n",
    "boundaries = np.load(boundaries_path)"
   ]
  },
  {
   "cell_type": "code",
   "execution_count": null,
   "metadata": {},
   "outputs": [],
   "source": [
    "test_seq_len = [1, 3, 5, 9, 15, 19]"
   ]
  },
  {
   "cell_type": "code",
   "execution_count": null,
   "metadata": {},
   "outputs": [],
   "source": [
    "counter = 0\n",
    "for test_id in test_ids:\n",
    "    track_idx = np.where((boundaries[:,0]<=test_id) & (boundaries[:,1]>=test_id))[0][0]\n",
    "    _, u_b = boundaries[track_idx]\n",
    "    for s_l in test_seq_len:\n",
    "        if test_id + s_l - 1 <= u_b:\n",
    "            continue\n",
    "        else:\n",
    "            #print(test_id, s_l, u_b)\n",
    "            counter += 1\n",
    "print(100*counter/(len(test_seq_len)*len(test_ids)))"
   ]
  }
 ],
 "metadata": {
  "kernelspec": {
   "display_name": "Python 3 (ipykernel)",
   "language": "python",
   "name": "python3"
  },
  "language_info": {
   "codemirror_mode": {
    "name": "ipython",
    "version": 3
   },
   "file_extension": ".py",
   "mimetype": "text/x-python",
   "name": "python",
   "nbconvert_exporter": "python",
   "pygments_lexer": "ipython3",
   "version": "3.7.7"
  }
 },
 "nbformat": 4,
 "nbformat_minor": 2
}
