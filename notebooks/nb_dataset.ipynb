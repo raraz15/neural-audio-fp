{
 "cells": [
  {
   "cell_type": "code",
   "execution_count": 1,
   "metadata": {},
   "outputs": [
    {
     "name": "stderr",
     "output_type": "stream",
     "text": [
      "[   INFO   ] MusicExtractorSVM: no classifier models were configured by default\n"
     ]
    }
   ],
   "source": [
    "%reload_ext autoreload\n",
    "%autoreload 2\n",
    "\n",
    "import os\n",
    "os.environ[\"CUDA_VISIBLE_DEVICES\"] = \"-1\"\n",
    "\n",
    "import sys\n",
    "code_dir = os.path.dirname(os.getcwd())\n",
    "sys.path.append(code_dir)\n",
    "\n",
    "from glob import glob\n",
    "import json\n",
    "import glob\n",
    "import wave\n",
    "import math\n",
    "from itertools import permutations\n",
    "\n",
    "import numpy as np\n",
    "from scipy import stats, signal\n",
    "import pandas as pd\n",
    "\n",
    "import essentia.standard as es\n",
    "\n",
    "from model.utils.audio_utils import load_audio, background_mix, max_normalize, ir_aug\n",
    "\n",
    "import IPython.display as ipd\n",
    "from model.utils.audio_utils import load_audio, get_fns_seg_dict\n",
    "\n",
    "from model.dataset import Dataset"
   ]
  },
  {
   "cell_type": "markdown",
   "metadata": {},
   "source": [
    "## FMA Tests"
   ]
  },
  {
   "cell_type": "code",
   "execution_count": 4,
   "metadata": {},
   "outputs": [
    {
     "name": "stdout",
     "output_type": "stream",
     "text": [
      "(106576, 53)\n"
     ]
    },
    {
     "data": {
      "text/html": [
       "<div>\n",
       "<style scoped>\n",
       "    .dataframe tbody tr th:only-of-type {\n",
       "        vertical-align: middle;\n",
       "    }\n",
       "\n",
       "    .dataframe tbody tr th {\n",
       "        vertical-align: top;\n",
       "    }\n",
       "\n",
       "    .dataframe thead th {\n",
       "        text-align: right;\n",
       "    }\n",
       "</style>\n",
       "<table border=\"1\" class=\"dataframe\">\n",
       "  <thead>\n",
       "    <tr style=\"text-align: right;\">\n",
       "      <th></th>\n",
       "      <th>Unnamed: 0</th>\n",
       "      <th>album</th>\n",
       "      <th>album.1</th>\n",
       "      <th>album.2</th>\n",
       "      <th>album.3</th>\n",
       "      <th>album.4</th>\n",
       "      <th>album.5</th>\n",
       "      <th>album.6</th>\n",
       "      <th>album.7</th>\n",
       "      <th>album.8</th>\n",
       "      <th>...</th>\n",
       "      <th>track.10</th>\n",
       "      <th>track.11</th>\n",
       "      <th>track.12</th>\n",
       "      <th>track.13</th>\n",
       "      <th>track.14</th>\n",
       "      <th>track.15</th>\n",
       "      <th>track.16</th>\n",
       "      <th>track.17</th>\n",
       "      <th>track.18</th>\n",
       "      <th>track.19</th>\n",
       "    </tr>\n",
       "  </thead>\n",
       "  <tbody>\n",
       "    <tr>\n",
       "      <th>0</th>\n",
       "      <td>NaN</td>\n",
       "      <td>comments</td>\n",
       "      <td>date_created</td>\n",
       "      <td>date_released</td>\n",
       "      <td>engineer</td>\n",
       "      <td>favorites</td>\n",
       "      <td>id</td>\n",
       "      <td>information</td>\n",
       "      <td>listens</td>\n",
       "      <td>producer</td>\n",
       "      <td>...</td>\n",
       "      <td>information</td>\n",
       "      <td>interest</td>\n",
       "      <td>language_code</td>\n",
       "      <td>license</td>\n",
       "      <td>listens</td>\n",
       "      <td>lyricist</td>\n",
       "      <td>number</td>\n",
       "      <td>publisher</td>\n",
       "      <td>tags</td>\n",
       "      <td>title</td>\n",
       "    </tr>\n",
       "    <tr>\n",
       "      <th>1</th>\n",
       "      <td>track_id</td>\n",
       "      <td>NaN</td>\n",
       "      <td>NaN</td>\n",
       "      <td>NaN</td>\n",
       "      <td>NaN</td>\n",
       "      <td>NaN</td>\n",
       "      <td>NaN</td>\n",
       "      <td>NaN</td>\n",
       "      <td>NaN</td>\n",
       "      <td>NaN</td>\n",
       "      <td>...</td>\n",
       "      <td>NaN</td>\n",
       "      <td>NaN</td>\n",
       "      <td>NaN</td>\n",
       "      <td>NaN</td>\n",
       "      <td>NaN</td>\n",
       "      <td>NaN</td>\n",
       "      <td>NaN</td>\n",
       "      <td>NaN</td>\n",
       "      <td>NaN</td>\n",
       "      <td>NaN</td>\n",
       "    </tr>\n",
       "    <tr>\n",
       "      <th>2</th>\n",
       "      <td>2</td>\n",
       "      <td>0</td>\n",
       "      <td>2008-11-26 01:44:45</td>\n",
       "      <td>2009-01-05 00:00:00</td>\n",
       "      <td>NaN</td>\n",
       "      <td>4</td>\n",
       "      <td>1</td>\n",
       "      <td>&lt;p&gt;&lt;/p&gt;</td>\n",
       "      <td>6073</td>\n",
       "      <td>NaN</td>\n",
       "      <td>...</td>\n",
       "      <td>NaN</td>\n",
       "      <td>4656</td>\n",
       "      <td>en</td>\n",
       "      <td>Attribution-NonCommercial-ShareAlike 3.0 Inter...</td>\n",
       "      <td>1293</td>\n",
       "      <td>NaN</td>\n",
       "      <td>3</td>\n",
       "      <td>NaN</td>\n",
       "      <td>[]</td>\n",
       "      <td>Food</td>\n",
       "    </tr>\n",
       "    <tr>\n",
       "      <th>3</th>\n",
       "      <td>3</td>\n",
       "      <td>0</td>\n",
       "      <td>2008-11-26 01:44:45</td>\n",
       "      <td>2009-01-05 00:00:00</td>\n",
       "      <td>NaN</td>\n",
       "      <td>4</td>\n",
       "      <td>1</td>\n",
       "      <td>&lt;p&gt;&lt;/p&gt;</td>\n",
       "      <td>6073</td>\n",
       "      <td>NaN</td>\n",
       "      <td>...</td>\n",
       "      <td>NaN</td>\n",
       "      <td>1470</td>\n",
       "      <td>en</td>\n",
       "      <td>Attribution-NonCommercial-ShareAlike 3.0 Inter...</td>\n",
       "      <td>514</td>\n",
       "      <td>NaN</td>\n",
       "      <td>4</td>\n",
       "      <td>NaN</td>\n",
       "      <td>[]</td>\n",
       "      <td>Electric Ave</td>\n",
       "    </tr>\n",
       "    <tr>\n",
       "      <th>4</th>\n",
       "      <td>5</td>\n",
       "      <td>0</td>\n",
       "      <td>2008-11-26 01:44:45</td>\n",
       "      <td>2009-01-05 00:00:00</td>\n",
       "      <td>NaN</td>\n",
       "      <td>4</td>\n",
       "      <td>1</td>\n",
       "      <td>&lt;p&gt;&lt;/p&gt;</td>\n",
       "      <td>6073</td>\n",
       "      <td>NaN</td>\n",
       "      <td>...</td>\n",
       "      <td>NaN</td>\n",
       "      <td>1933</td>\n",
       "      <td>en</td>\n",
       "      <td>Attribution-NonCommercial-ShareAlike 3.0 Inter...</td>\n",
       "      <td>1151</td>\n",
       "      <td>NaN</td>\n",
       "      <td>6</td>\n",
       "      <td>NaN</td>\n",
       "      <td>[]</td>\n",
       "      <td>This World</td>\n",
       "    </tr>\n",
       "  </tbody>\n",
       "</table>\n",
       "<p>5 rows × 53 columns</p>\n",
       "</div>"
      ],
      "text/plain": [
       "  Unnamed: 0     album              album.1              album.2   album.3  \\\n",
       "0        NaN  comments         date_created        date_released  engineer   \n",
       "1   track_id       NaN                  NaN                  NaN       NaN   \n",
       "2          2         0  2008-11-26 01:44:45  2009-01-05 00:00:00       NaN   \n",
       "3          3         0  2008-11-26 01:44:45  2009-01-05 00:00:00       NaN   \n",
       "4          5         0  2008-11-26 01:44:45  2009-01-05 00:00:00       NaN   \n",
       "\n",
       "     album.4 album.5      album.6  album.7   album.8  ...     track.10  \\\n",
       "0  favorites      id  information  listens  producer  ...  information   \n",
       "1        NaN     NaN          NaN      NaN       NaN  ...          NaN   \n",
       "2          4       1      <p></p>     6073       NaN  ...          NaN   \n",
       "3          4       1      <p></p>     6073       NaN  ...          NaN   \n",
       "4          4       1      <p></p>     6073       NaN  ...          NaN   \n",
       "\n",
       "   track.11       track.12                                           track.13  \\\n",
       "0  interest  language_code                                            license   \n",
       "1       NaN            NaN                                                NaN   \n",
       "2      4656             en  Attribution-NonCommercial-ShareAlike 3.0 Inter...   \n",
       "3      1470             en  Attribution-NonCommercial-ShareAlike 3.0 Inter...   \n",
       "4      1933             en  Attribution-NonCommercial-ShareAlike 3.0 Inter...   \n",
       "\n",
       "  track.14  track.15 track.16   track.17 track.18      track.19  \n",
       "0  listens  lyricist   number  publisher     tags         title  \n",
       "1      NaN       NaN      NaN        NaN      NaN           NaN  \n",
       "2     1293       NaN        3        NaN       []          Food  \n",
       "3      514       NaN        4        NaN       []  Electric Ave  \n",
       "4     1151       NaN        6        NaN       []    This World  \n",
       "\n",
       "[5 rows x 53 columns]"
      ]
     },
     "execution_count": 4,
     "metadata": {},
     "output_type": "execute_result"
    }
   ],
   "source": [
    "tracks_csv_path = \"/home/oaraz/nextcore/fingerprinting/datasets/neural-audio-fp-dataset/extras/fma_info/tracks.csv\"\n",
    "df_full = pd.read_csv(tracks_csv_path, low_memory=False)\n",
    "print(df_full.shape)\n",
    "df_full.head()"
   ]
  },
  {
   "cell_type": "code",
   "execution_count": 5,
   "metadata": {},
   "outputs": [
    {
     "data": {
      "text/plain": [
       "Index(['Unnamed: 0', 'album', 'album.1', 'album.2', 'album.3', 'album.4',\n",
       "       'album.5', 'album.6', 'album.7', 'album.8', 'album.9', 'album.10',\n",
       "       'album.11', 'album.12', 'artist', 'artist.1', 'artist.2', 'artist.3',\n",
       "       'artist.4', 'artist.5', 'artist.6', 'artist.7', 'artist.8', 'artist.9',\n",
       "       'artist.10', 'artist.11', 'artist.12', 'artist.13', 'artist.14',\n",
       "       'artist.15', 'artist.16', 'set', 'set.1', 'track', 'track.1', 'track.2',\n",
       "       'track.3', 'track.4', 'track.5', 'track.6', 'track.7', 'track.8',\n",
       "       'track.9', 'track.10', 'track.11', 'track.12', 'track.13', 'track.14',\n",
       "       'track.15', 'track.16', 'track.17', 'track.18', 'track.19'],\n",
       "      dtype='object')"
      ]
     },
     "execution_count": 5,
     "metadata": {},
     "output_type": "execute_result"
    }
   ],
   "source": [
    "df_full.columns"
   ]
  },
  {
   "cell_type": "code",
   "execution_count": 6,
   "metadata": {},
   "outputs": [
    {
     "data": {
      "text/plain": [
       "Unnamed: 0                  NaN\n",
       "album                  comments\n",
       "album.1            date_created\n",
       "album.2           date_released\n",
       "album.3                engineer\n",
       "album.4               favorites\n",
       "album.5                      id\n",
       "album.6             information\n",
       "album.7                 listens\n",
       "album.8                producer\n",
       "album.9                    tags\n",
       "album.10                  title\n",
       "album.11                 tracks\n",
       "album.12                   type\n",
       "artist        active_year_begin\n",
       "artist.1        active_year_end\n",
       "artist.2      associated_labels\n",
       "artist.3                    bio\n",
       "artist.4               comments\n",
       "artist.5           date_created\n",
       "artist.6              favorites\n",
       "artist.7                     id\n",
       "artist.8               latitude\n",
       "artist.9               location\n",
       "artist.10             longitude\n",
       "artist.11               members\n",
       "artist.12                  name\n",
       "artist.13      related_projects\n",
       "artist.14                  tags\n",
       "artist.15               website\n",
       "artist.16        wikipedia_page\n",
       "set                       split\n",
       "set.1                    subset\n",
       "track                  bit_rate\n",
       "track.1                comments\n",
       "track.2                composer\n",
       "track.3            date_created\n",
       "track.4           date_recorded\n",
       "track.5                duration\n",
       "track.6               favorites\n",
       "track.7               genre_top\n",
       "track.8                  genres\n",
       "track.9              genres_all\n",
       "track.10            information\n",
       "track.11               interest\n",
       "track.12          language_code\n",
       "track.13                license\n",
       "track.14                listens\n",
       "track.15               lyricist\n",
       "track.16                 number\n",
       "track.17              publisher\n",
       "track.18                   tags\n",
       "track.19                  title\n",
       "Name: 0, dtype: object"
      ]
     },
     "execution_count": 6,
     "metadata": {},
     "output_type": "execute_result"
    }
   ],
   "source": [
    "df_full.iloc[0]"
   ]
  },
  {
   "cell_type": "code",
   "execution_count": 7,
   "metadata": {},
   "outputs": [
    {
     "data": {
      "text/plain": [
       "array(['split', nan, 'training', 'validation', 'test'], dtype=object)"
      ]
     },
     "execution_count": 7,
     "metadata": {},
     "output_type": "execute_result"
    }
   ],
   "source": [
    "df_full['set'].unique()"
   ]
  },
  {
   "cell_type": "code",
   "execution_count": 8,
   "metadata": {},
   "outputs": [
    {
     "name": "stdout",
     "output_type": "stream",
     "text": [
      "(84353, 53)\n",
      "(10958, 53)\n",
      "(11263, 53)\n"
     ]
    }
   ],
   "source": [
    "print(df_full[df_full['set']==\"training\"].shape)\n",
    "print(df_full[df_full['set']==\"validation\"].shape)\n",
    "print(df_full[df_full['set']==\"test\"].shape)"
   ]
  },
  {
   "cell_type": "code",
   "execution_count": 9,
   "metadata": {},
   "outputs": [
    {
     "data": {
      "text/plain": [
       "array(['subset', nan, 'small', 'medium', 'large'], dtype=object)"
      ]
     },
     "execution_count": 9,
     "metadata": {},
     "output_type": "execute_result"
    }
   ],
   "source": [
    "df_full['set.1'].unique()"
   ]
  },
  {
   "cell_type": "code",
   "execution_count": 10,
   "metadata": {},
   "outputs": [
    {
     "name": "stdout",
     "output_type": "stream",
     "text": [
      "(8000, 53)\n",
      "(17000, 53)\n",
      "(81574, 53)\n"
     ]
    }
   ],
   "source": [
    "print(df_full[df_full['set.1']==\"small\"].shape)\n",
    "print(df_full[df_full['set.1']==\"medium\"].shape)\n",
    "print(df_full[df_full['set.1']==\"large\"].shape)"
   ]
  },
  {
   "cell_type": "code",
   "execution_count": 11,
   "metadata": {},
   "outputs": [
    {
     "name": "stdout",
     "output_type": "stream",
     "text": [
      "106574\n"
     ]
    }
   ],
   "source": [
    "total_unique = 81574 + 17000 + 8000\n",
    "print(total_unique)"
   ]
  },
  {
   "cell_type": "markdown",
   "metadata": {},
   "source": [
    "### Understand NAFP Dataset\n",
    "all 8000 of small and 2000 from medium used for training\n",
    "500 val \n",
    "500 query\n",
    "\n",
    "total used 11000\n",
    "total different 106574"
   ]
  },
  {
   "cell_type": "code",
   "execution_count": 17,
   "metadata": {},
   "outputs": [
    {
     "name": "stdout",
     "output_type": "stream",
     "text": [
      "11000\n"
     ]
    }
   ],
   "source": [
    "total_used = 10000 + 500 + 500\n",
    "print(total_used)"
   ]
  },
  {
   "cell_type": "code",
   "execution_count": 18,
   "metadata": {},
   "outputs": [
    {
     "data": {
      "text/plain": [
       "95574"
      ]
     },
     "execution_count": 18,
     "metadata": {},
     "output_type": "execute_result"
    }
   ],
   "source": [
    "total_unique - total_used"
   ]
  },
  {
   "cell_type": "code",
   "execution_count": 19,
   "metadata": {},
   "outputs": [
    {
     "data": {
      "text/plain": [
       "6542"
      ]
     },
     "execution_count": 19,
     "metadata": {},
     "output_type": "execute_result"
    }
   ],
   "source": [
    "100000-93458"
   ]
  },
  {
   "cell_type": "code",
   "execution_count": 20,
   "metadata": {},
   "outputs": [
    {
     "data": {
      "text/plain": [
       "set()"
      ]
     },
     "execution_count": 20,
     "metadata": {},
     "output_type": "execute_result"
    }
   ],
   "source": [
    "set(df_full[df_full['set.1']==\"small\"].index.to_numpy()).intersection(set(df_full[df_full['set.1']==\"medium\"].index.to_numpy()))"
   ]
  },
  {
   "cell_type": "markdown",
   "metadata": {},
   "source": [
    "## Load Again Properly With known header row"
   ]
  },
  {
   "cell_type": "code",
   "execution_count": 72,
   "metadata": {},
   "outputs": [
    {
     "name": "stdout",
     "output_type": "stream",
     "text": [
      "(106574, 53)\n"
     ]
    },
    {
     "data": {
      "text/html": [
       "<div>\n",
       "<style scoped>\n",
       "    .dataframe tbody tr th:only-of-type {\n",
       "        vertical-align: middle;\n",
       "    }\n",
       "\n",
       "    .dataframe tbody tr th {\n",
       "        vertical-align: top;\n",
       "    }\n",
       "\n",
       "    .dataframe thead th {\n",
       "        text-align: right;\n",
       "    }\n",
       "</style>\n",
       "<table border=\"1\" class=\"dataframe\">\n",
       "  <thead>\n",
       "    <tr style=\"text-align: right;\">\n",
       "      <th></th>\n",
       "      <th>track_id</th>\n",
       "      <th>comments</th>\n",
       "      <th>date_created</th>\n",
       "      <th>date_released</th>\n",
       "      <th>engineer</th>\n",
       "      <th>favorites</th>\n",
       "      <th>id</th>\n",
       "      <th>information</th>\n",
       "      <th>listens</th>\n",
       "      <th>producer</th>\n",
       "      <th>...</th>\n",
       "      <th>information.1</th>\n",
       "      <th>interest</th>\n",
       "      <th>language_code</th>\n",
       "      <th>license</th>\n",
       "      <th>listens.1</th>\n",
       "      <th>lyricist</th>\n",
       "      <th>number</th>\n",
       "      <th>publisher</th>\n",
       "      <th>tags.2</th>\n",
       "      <th>title.1</th>\n",
       "    </tr>\n",
       "  </thead>\n",
       "  <tbody>\n",
       "    <tr>\n",
       "      <th>1</th>\n",
       "      <td>2</td>\n",
       "      <td>0.0</td>\n",
       "      <td>2008-11-26 01:44:45</td>\n",
       "      <td>2009-01-05 00:00:00</td>\n",
       "      <td>NaN</td>\n",
       "      <td>4.0</td>\n",
       "      <td>1.0</td>\n",
       "      <td>&lt;p&gt;&lt;/p&gt;</td>\n",
       "      <td>6073.0</td>\n",
       "      <td>NaN</td>\n",
       "      <td>...</td>\n",
       "      <td>NaN</td>\n",
       "      <td>4656.0</td>\n",
       "      <td>en</td>\n",
       "      <td>Attribution-NonCommercial-ShareAlike 3.0 Inter...</td>\n",
       "      <td>1293.0</td>\n",
       "      <td>NaN</td>\n",
       "      <td>3.0</td>\n",
       "      <td>NaN</td>\n",
       "      <td>[]</td>\n",
       "      <td>Food</td>\n",
       "    </tr>\n",
       "    <tr>\n",
       "      <th>2</th>\n",
       "      <td>3</td>\n",
       "      <td>0.0</td>\n",
       "      <td>2008-11-26 01:44:45</td>\n",
       "      <td>2009-01-05 00:00:00</td>\n",
       "      <td>NaN</td>\n",
       "      <td>4.0</td>\n",
       "      <td>1.0</td>\n",
       "      <td>&lt;p&gt;&lt;/p&gt;</td>\n",
       "      <td>6073.0</td>\n",
       "      <td>NaN</td>\n",
       "      <td>...</td>\n",
       "      <td>NaN</td>\n",
       "      <td>1470.0</td>\n",
       "      <td>en</td>\n",
       "      <td>Attribution-NonCommercial-ShareAlike 3.0 Inter...</td>\n",
       "      <td>514.0</td>\n",
       "      <td>NaN</td>\n",
       "      <td>4.0</td>\n",
       "      <td>NaN</td>\n",
       "      <td>[]</td>\n",
       "      <td>Electric Ave</td>\n",
       "    </tr>\n",
       "    <tr>\n",
       "      <th>3</th>\n",
       "      <td>5</td>\n",
       "      <td>0.0</td>\n",
       "      <td>2008-11-26 01:44:45</td>\n",
       "      <td>2009-01-05 00:00:00</td>\n",
       "      <td>NaN</td>\n",
       "      <td>4.0</td>\n",
       "      <td>1.0</td>\n",
       "      <td>&lt;p&gt;&lt;/p&gt;</td>\n",
       "      <td>6073.0</td>\n",
       "      <td>NaN</td>\n",
       "      <td>...</td>\n",
       "      <td>NaN</td>\n",
       "      <td>1933.0</td>\n",
       "      <td>en</td>\n",
       "      <td>Attribution-NonCommercial-ShareAlike 3.0 Inter...</td>\n",
       "      <td>1151.0</td>\n",
       "      <td>NaN</td>\n",
       "      <td>6.0</td>\n",
       "      <td>NaN</td>\n",
       "      <td>[]</td>\n",
       "      <td>This World</td>\n",
       "    </tr>\n",
       "    <tr>\n",
       "      <th>4</th>\n",
       "      <td>10</td>\n",
       "      <td>0.0</td>\n",
       "      <td>2008-11-26 01:45:08</td>\n",
       "      <td>2008-02-06 00:00:00</td>\n",
       "      <td>NaN</td>\n",
       "      <td>4.0</td>\n",
       "      <td>6.0</td>\n",
       "      <td>NaN</td>\n",
       "      <td>47632.0</td>\n",
       "      <td>NaN</td>\n",
       "      <td>...</td>\n",
       "      <td>NaN</td>\n",
       "      <td>54881.0</td>\n",
       "      <td>en</td>\n",
       "      <td>Attribution-NonCommercial-NoDerivatives (aka M...</td>\n",
       "      <td>50135.0</td>\n",
       "      <td>NaN</td>\n",
       "      <td>1.0</td>\n",
       "      <td>NaN</td>\n",
       "      <td>[]</td>\n",
       "      <td>Freeway</td>\n",
       "    </tr>\n",
       "    <tr>\n",
       "      <th>5</th>\n",
       "      <td>20</td>\n",
       "      <td>0.0</td>\n",
       "      <td>2008-11-26 01:45:05</td>\n",
       "      <td>2009-01-06 00:00:00</td>\n",
       "      <td>NaN</td>\n",
       "      <td>2.0</td>\n",
       "      <td>4.0</td>\n",
       "      <td>&lt;p&gt; \"spiritual songs\" from Nicky Cook&lt;/p&gt;</td>\n",
       "      <td>2710.0</td>\n",
       "      <td>NaN</td>\n",
       "      <td>...</td>\n",
       "      <td>NaN</td>\n",
       "      <td>978.0</td>\n",
       "      <td>en</td>\n",
       "      <td>Attribution-NonCommercial-NoDerivatives (aka M...</td>\n",
       "      <td>361.0</td>\n",
       "      <td>NaN</td>\n",
       "      <td>3.0</td>\n",
       "      <td>NaN</td>\n",
       "      <td>[]</td>\n",
       "      <td>Spiritual Level</td>\n",
       "    </tr>\n",
       "  </tbody>\n",
       "</table>\n",
       "<p>5 rows × 53 columns</p>\n",
       "</div>"
      ],
      "text/plain": [
       "  track_id  comments         date_created        date_released engineer  \\\n",
       "1        2       0.0  2008-11-26 01:44:45  2009-01-05 00:00:00      NaN   \n",
       "2        3       0.0  2008-11-26 01:44:45  2009-01-05 00:00:00      NaN   \n",
       "3        5       0.0  2008-11-26 01:44:45  2009-01-05 00:00:00      NaN   \n",
       "4       10       0.0  2008-11-26 01:45:08  2008-02-06 00:00:00      NaN   \n",
       "5       20       0.0  2008-11-26 01:45:05  2009-01-06 00:00:00      NaN   \n",
       "\n",
       "   favorites   id                                information  listens  \\\n",
       "1        4.0  1.0                                    <p></p>   6073.0   \n",
       "2        4.0  1.0                                    <p></p>   6073.0   \n",
       "3        4.0  1.0                                    <p></p>   6073.0   \n",
       "4        4.0  6.0                                        NaN  47632.0   \n",
       "5        2.0  4.0  <p> \"spiritual songs\" from Nicky Cook</p>   2710.0   \n",
       "\n",
       "  producer  ... information.1 interest  language_code  \\\n",
       "1      NaN  ...           NaN   4656.0             en   \n",
       "2      NaN  ...           NaN   1470.0             en   \n",
       "3      NaN  ...           NaN   1933.0             en   \n",
       "4      NaN  ...           NaN  54881.0             en   \n",
       "5      NaN  ...           NaN    978.0             en   \n",
       "\n",
       "                                             license listens.1 lyricist  \\\n",
       "1  Attribution-NonCommercial-ShareAlike 3.0 Inter...    1293.0      NaN   \n",
       "2  Attribution-NonCommercial-ShareAlike 3.0 Inter...     514.0      NaN   \n",
       "3  Attribution-NonCommercial-ShareAlike 3.0 Inter...    1151.0      NaN   \n",
       "4  Attribution-NonCommercial-NoDerivatives (aka M...   50135.0      NaN   \n",
       "5  Attribution-NonCommercial-NoDerivatives (aka M...     361.0      NaN   \n",
       "\n",
       "  number publisher  tags.2          title.1  \n",
       "1    3.0       NaN      []             Food  \n",
       "2    4.0       NaN      []     Electric Ave  \n",
       "3    6.0       NaN      []       This World  \n",
       "4    1.0       NaN      []          Freeway  \n",
       "5    3.0       NaN      []  Spiritual Level  \n",
       "\n",
       "[5 rows x 53 columns]"
      ]
     },
     "execution_count": 72,
     "metadata": {},
     "output_type": "execute_result"
    }
   ],
   "source": [
    "df = pd.read_csv(tracks_csv_path, low_memory=False, header=1)\n",
    "df.rename(columns={'Unnamed: 0': 'track_id'}, inplace=True)\n",
    "df.drop(0, axis=0, inplace=True)\n",
    "print(df.shape)\n",
    "df.head()"
   ]
  },
  {
   "cell_type": "code",
   "execution_count": 73,
   "metadata": {},
   "outputs": [
    {
     "data": {
      "text/plain": [
       "Index(['track_id', 'comments', 'date_created', 'date_released', 'engineer',\n",
       "       'favorites', 'id', 'information', 'listens', 'producer', 'tags',\n",
       "       'title', 'tracks', 'type', 'active_year_begin', 'active_year_end',\n",
       "       'associated_labels', 'bio', 'comments.1', 'date_created.1',\n",
       "       'favorites.1', 'id.1', 'latitude', 'location', 'longitude', 'members',\n",
       "       'name', 'related_projects', 'tags.1', 'website', 'wikipedia_page',\n",
       "       'split', 'subset', 'bit_rate', 'comments.2', 'composer',\n",
       "       'date_created.2', 'date_recorded', 'duration', 'favorites.2',\n",
       "       'genre_top', 'genres', 'genres_all', 'information.1', 'interest',\n",
       "       'language_code', 'license', 'listens.1', 'lyricist', 'number',\n",
       "       'publisher', 'tags.2', 'title.1'],\n",
       "      dtype='object')"
      ]
     },
     "execution_count": 73,
     "metadata": {},
     "output_type": "execute_result"
    }
   ],
   "source": [
    "df.columns"
   ]
  },
  {
   "cell_type": "code",
   "execution_count": 74,
   "metadata": {},
   "outputs": [],
   "source": [
    "drop_cols = [\n",
    "    \"date_created\",\n",
    "    \"date_released\",\n",
    "    \"engineer\",\n",
    "    \"favorites\",\n",
    "    \"id\",\n",
    "    \"producer\",\n",
    "    \"tags\",\n",
    "    \"active_year_begin\",\n",
    "    \"active_year_end\",\n",
    "    \"associated_labels\",\n",
    "    \"comments.1\",\n",
    "    \"date_created.1\",\n",
    "    \"favorites.1\",\n",
    "    \"id.1\",\n",
    "    \"latitude\",\n",
    "    \"location\",\n",
    "    \"longitude\",\n",
    "    \"related_projects\",\n",
    "    \"tags.1\",\n",
    "    \"website\",\n",
    "    \"wikipedia_page\",\n",
    "    \"comments.2\",\n",
    "    \"date_created.2\",\n",
    "    \"date_recorded\",\n",
    "    \"favorites.2\",\n",
    "    \"information.1\",\n",
    "    \"interest\",\n",
    "    \"language_code\",\n",
    "    \"license\",\n",
    "    \"listens.1\",\n",
    "    \"lyricist\",\n",
    "    \"number\",\n",
    "    \"publisher\",\n",
    "    \"tags.2\",\n",
    "    \"listens\",\n",
    "]\n",
    "df.drop(labels=drop_cols, axis=1, inplace=True)"
   ]
  },
  {
   "cell_type": "code",
   "execution_count": 75,
   "metadata": {},
   "outputs": [
    {
     "data": {
      "text/plain": [
       "Index(['track_id', 'comments', 'information', 'title', 'tracks', 'type', 'bio',\n",
       "       'members', 'name', 'split', 'subset', 'bit_rate', 'composer',\n",
       "       'duration', 'genre_top', 'genres', 'genres_all', 'title.1'],\n",
       "      dtype='object')"
      ]
     },
     "execution_count": 75,
     "metadata": {},
     "output_type": "execute_result"
    }
   ],
   "source": [
    "df.columns"
   ]
  },
  {
   "cell_type": "code",
   "execution_count": 68,
   "metadata": {
    "scrolled": true
   },
   "outputs": [
    {
     "data": {
      "text/plain": [
       "1                  [21]\n",
       "2                  [21]\n",
       "3                  [21]\n",
       "4                  [10]\n",
       "5             [76, 103]\n",
       "              ...      \n",
       "106570             [25]\n",
       "106571             [25]\n",
       "106572             [25]\n",
       "106573             [25]\n",
       "106574    [10, 12, 169]\n",
       "Name: genres, Length: 106574, dtype: object"
      ]
     },
     "execution_count": 68,
     "metadata": {},
     "output_type": "execute_result"
    }
   ],
   "source": [
    "df['genres']"
   ]
  },
  {
   "cell_type": "code",
   "execution_count": 42,
   "metadata": {},
   "outputs": [
    {
     "data": {
      "text/plain": [
       "array(['Hip-Hop', 'Pop', nan, 'Rock', 'Experimental', 'Folk', 'Jazz',\n",
       "       'Electronic', 'Spoken', 'International', 'Soul-RnB', 'Blues',\n",
       "       'Country', 'Classical', 'Old-Time / Historic', 'Instrumental',\n",
       "       'Easy Listening'], dtype=object)"
      ]
     },
     "execution_count": 42,
     "metadata": {},
     "output_type": "execute_result"
    }
   ],
   "source": [
    "df['genre_top'].unique()"
   ]
  },
  {
   "cell_type": "code",
   "execution_count": 76,
   "metadata": {},
   "outputs": [
    {
     "data": {
      "text/plain": [
       "track_id                                                      20\n",
       "comments                                                     0.0\n",
       "information            <p> \"spiritual songs\" from Nicky Cook</p>\n",
       "title                                                      Niris\n",
       "tracks                                                      13.0\n",
       "type                                                       Album\n",
       "bio            <p>Songs written by: Nicky Cook</p>\\n<p>VOCALS...\n",
       "members                                             Nicky Cook\\n\n",
       "name                                                  Nicky Cook\n",
       "split                                                   training\n",
       "subset                                                     large\n",
       "bit_rate                                                256000.0\n",
       "composer                                                     NaN\n",
       "duration                                                   311.0\n",
       "genre_top                                                    NaN\n",
       "genres                                                 [76, 103]\n",
       "genres_all                                     [17, 10, 76, 103]\n",
       "title.1                                          Spiritual Level\n",
       "Name: 5, dtype: object"
      ]
     },
     "execution_count": 76,
     "metadata": {},
     "output_type": "execute_result"
    }
   ],
   "source": [
    "df[df['genre_top'].isna()].iloc[0]"
   ]
  },
  {
   "cell_type": "code",
   "execution_count": 39,
   "metadata": {},
   "outputs": [
    {
     "data": {
      "text/plain": [
       "1                      [21]\n",
       "2                      [21]\n",
       "3                      [21]\n",
       "4                      [10]\n",
       "5         [17, 10, 76, 103]\n",
       "                ...        \n",
       "106570             [25, 12]\n",
       "106571             [25, 12]\n",
       "106572             [25, 12]\n",
       "106573             [25, 12]\n",
       "106574     [169, 10, 12, 9]\n",
       "Name: genres_all, Length: 106574, dtype: object"
      ]
     },
     "execution_count": 39,
     "metadata": {},
     "output_type": "execute_result"
    }
   ],
   "source": [
    "df['genres_all']"
   ]
  },
  {
   "cell_type": "code",
   "execution_count": 51,
   "metadata": {},
   "outputs": [
    {
     "data": {
      "text/html": [
       "<div>\n",
       "<style scoped>\n",
       "    .dataframe tbody tr th:only-of-type {\n",
       "        vertical-align: middle;\n",
       "    }\n",
       "\n",
       "    .dataframe tbody tr th {\n",
       "        vertical-align: top;\n",
       "    }\n",
       "\n",
       "    .dataframe thead th {\n",
       "        text-align: right;\n",
       "    }\n",
       "</style>\n",
       "<table border=\"1\" class=\"dataframe\">\n",
       "  <thead>\n",
       "    <tr style=\"text-align: right;\">\n",
       "      <th></th>\n",
       "      <th>track_id</th>\n",
       "      <th>comments</th>\n",
       "      <th>date_created</th>\n",
       "      <th>date_released</th>\n",
       "      <th>engineer</th>\n",
       "      <th>favorites</th>\n",
       "      <th>id</th>\n",
       "      <th>information</th>\n",
       "      <th>listens</th>\n",
       "      <th>producer</th>\n",
       "      <th>...</th>\n",
       "      <th>information.1</th>\n",
       "      <th>interest</th>\n",
       "      <th>language_code</th>\n",
       "      <th>license</th>\n",
       "      <th>listens.1</th>\n",
       "      <th>lyricist</th>\n",
       "      <th>number</th>\n",
       "      <th>publisher</th>\n",
       "      <th>tags.2</th>\n",
       "      <th>title.1</th>\n",
       "    </tr>\n",
       "  </thead>\n",
       "  <tbody>\n",
       "  </tbody>\n",
       "</table>\n",
       "<p>0 rows × 53 columns</p>\n",
       "</div>"
      ],
      "text/plain": [
       "Empty DataFrame\n",
       "Columns: [track_id, comments, date_created, date_released, engineer, favorites, id, information, listens, producer, tags, title, tracks, type, active_year_begin, active_year_end, associated_labels, bio, comments.1, date_created.1, favorites.1, id.1, latitude, location, longitude, members, name, related_projects, tags.1, website, wikipedia_page, split, subset, bit_rate, comments.2, composer, date_created.2, date_recorded, duration, favorites.2, genre_top, genres, genres_all, information.1, interest, language_code, license, listens.1, lyricist, number, publisher, tags.2, title.1]\n",
       "Index: []\n",
       "\n",
       "[0 rows x 53 columns]"
      ]
     },
     "execution_count": 51,
     "metadata": {},
     "output_type": "execute_result"
    }
   ],
   "source": [
    "df[df['genres'].isna()]"
   ]
  },
  {
   "cell_type": "code",
   "execution_count": 53,
   "metadata": {},
   "outputs": [
    {
     "data": {
      "text/html": [
       "<div>\n",
       "<style scoped>\n",
       "    .dataframe tbody tr th:only-of-type {\n",
       "        vertical-align: middle;\n",
       "    }\n",
       "\n",
       "    .dataframe tbody tr th {\n",
       "        vertical-align: top;\n",
       "    }\n",
       "\n",
       "    .dataframe thead th {\n",
       "        text-align: right;\n",
       "    }\n",
       "</style>\n",
       "<table border=\"1\" class=\"dataframe\">\n",
       "  <thead>\n",
       "    <tr style=\"text-align: right;\">\n",
       "      <th></th>\n",
       "      <th>track_id</th>\n",
       "      <th>comments</th>\n",
       "      <th>date_created</th>\n",
       "      <th>date_released</th>\n",
       "      <th>engineer</th>\n",
       "      <th>favorites</th>\n",
       "      <th>id</th>\n",
       "      <th>information</th>\n",
       "      <th>listens</th>\n",
       "      <th>producer</th>\n",
       "      <th>...</th>\n",
       "      <th>information.1</th>\n",
       "      <th>interest</th>\n",
       "      <th>language_code</th>\n",
       "      <th>license</th>\n",
       "      <th>listens.1</th>\n",
       "      <th>lyricist</th>\n",
       "      <th>number</th>\n",
       "      <th>publisher</th>\n",
       "      <th>tags.2</th>\n",
       "      <th>title.1</th>\n",
       "    </tr>\n",
       "  </thead>\n",
       "  <tbody>\n",
       "  </tbody>\n",
       "</table>\n",
       "<p>0 rows × 53 columns</p>\n",
       "</div>"
      ],
      "text/plain": [
       "Empty DataFrame\n",
       "Columns: [track_id, comments, date_created, date_released, engineer, favorites, id, information, listens, producer, tags, title, tracks, type, active_year_begin, active_year_end, associated_labels, bio, comments.1, date_created.1, favorites.1, id.1, latitude, location, longitude, members, name, related_projects, tags.1, website, wikipedia_page, split, subset, bit_rate, comments.2, composer, date_created.2, date_recorded, duration, favorites.2, genre_top, genres, genres_all, information.1, interest, language_code, license, listens.1, lyricist, number, publisher, tags.2, title.1]\n",
       "Index: []\n",
       "\n",
       "[0 rows x 53 columns]"
      ]
     },
     "execution_count": 53,
     "metadata": {},
     "output_type": "execute_result"
    }
   ],
   "source": [
    "df[df['genres_all'].isna()]"
   ]
  },
  {
   "cell_type": "code",
   "execution_count": 77,
   "metadata": {},
   "outputs": [
    {
     "name": "stdout",
     "output_type": "stream",
     "text": [
      "(56976, 18)\n"
     ]
    }
   ],
   "source": [
    "print(df[(df['subset']==\"large\") &  (df['genre_top'].isna())].shape)"
   ]
  },
  {
   "cell_type": "code",
   "execution_count": 84,
   "metadata": {},
   "outputs": [
    {
     "data": {
      "text/plain": [
       "array(['Hip-Hop', 'Rock', 'Folk', 'Jazz', 'Electronic', 'Experimental',\n",
       "       'Soul-RnB', 'Pop', 'Blues', 'Spoken', 'Country', 'Classical',\n",
       "       'Old-Time / Historic', 'Instrumental', 'International',\n",
       "       'Easy Listening'], dtype=object)"
      ]
     },
     "execution_count": 84,
     "metadata": {},
     "output_type": "execute_result"
    }
   ],
   "source": [
    "df[df['subset']==\"medium\"]['genre_top'].unique()"
   ]
  },
  {
   "cell_type": "code",
   "execution_count": 81,
   "metadata": {},
   "outputs": [
    {
     "data": {
      "text/plain": [
       "track_id                                                      46\n",
       "comments                                                     0.0\n",
       "information            <p> \"spiritual songs\" from Nicky Cook</p>\n",
       "title                                                      Niris\n",
       "tracks                                                      13.0\n",
       "type                                                       Album\n",
       "bio            <p>Songs written by: Nicky Cook</p>\\n<p>VOCALS...\n",
       "members                                             Nicky Cook\\n\n",
       "name                                                  Nicky Cook\n",
       "split                                                   training\n",
       "subset                                                     large\n",
       "bit_rate                                                256000.0\n",
       "composer                                                     NaN\n",
       "duration                                                   104.0\n",
       "genre_top                                                    NaN\n",
       "genres                                                 [76, 103]\n",
       "genres_all                                     [17, 10, 76, 103]\n",
       "title.1                                                 Yosemite\n",
       "Name: 8, dtype: object"
      ]
     },
     "execution_count": 81,
     "metadata": {},
     "output_type": "execute_result"
    }
   ],
   "source": [
    "df[(df['subset']==\"large\") &  (df['genre_top'].isna())].iloc[3]"
   ]
  },
  {
   "cell_type": "markdown",
   "metadata": {},
   "source": [
    "## Genre CSV"
   ]
  },
  {
   "cell_type": "code",
   "execution_count": 3,
   "metadata": {},
   "outputs": [
    {
     "name": "stdout",
     "output_type": "stream",
     "text": [
      "(163, 5)\n"
     ]
    },
    {
     "data": {
      "text/html": [
       "<div>\n",
       "<style scoped>\n",
       "    .dataframe tbody tr th:only-of-type {\n",
       "        vertical-align: middle;\n",
       "    }\n",
       "\n",
       "    .dataframe tbody tr th {\n",
       "        vertical-align: top;\n",
       "    }\n",
       "\n",
       "    .dataframe thead th {\n",
       "        text-align: right;\n",
       "    }\n",
       "</style>\n",
       "<table border=\"1\" class=\"dataframe\">\n",
       "  <thead>\n",
       "    <tr style=\"text-align: right;\">\n",
       "      <th></th>\n",
       "      <th>genre_id</th>\n",
       "      <th>#tracks</th>\n",
       "      <th>parent</th>\n",
       "      <th>title</th>\n",
       "      <th>top_level</th>\n",
       "    </tr>\n",
       "  </thead>\n",
       "  <tbody>\n",
       "    <tr>\n",
       "      <th>0</th>\n",
       "      <td>1</td>\n",
       "      <td>8693</td>\n",
       "      <td>38</td>\n",
       "      <td>Avant-Garde</td>\n",
       "      <td>38</td>\n",
       "    </tr>\n",
       "    <tr>\n",
       "      <th>1</th>\n",
       "      <td>2</td>\n",
       "      <td>5271</td>\n",
       "      <td>0</td>\n",
       "      <td>International</td>\n",
       "      <td>2</td>\n",
       "    </tr>\n",
       "    <tr>\n",
       "      <th>2</th>\n",
       "      <td>3</td>\n",
       "      <td>1752</td>\n",
       "      <td>0</td>\n",
       "      <td>Blues</td>\n",
       "      <td>3</td>\n",
       "    </tr>\n",
       "    <tr>\n",
       "      <th>3</th>\n",
       "      <td>4</td>\n",
       "      <td>4126</td>\n",
       "      <td>0</td>\n",
       "      <td>Jazz</td>\n",
       "      <td>4</td>\n",
       "    </tr>\n",
       "    <tr>\n",
       "      <th>4</th>\n",
       "      <td>5</td>\n",
       "      <td>4106</td>\n",
       "      <td>0</td>\n",
       "      <td>Classical</td>\n",
       "      <td>5</td>\n",
       "    </tr>\n",
       "  </tbody>\n",
       "</table>\n",
       "</div>"
      ],
      "text/plain": [
       "   genre_id  #tracks  parent          title  top_level\n",
       "0         1     8693      38    Avant-Garde         38\n",
       "1         2     5271       0  International          2\n",
       "2         3     1752       0          Blues          3\n",
       "3         4     4126       0           Jazz          4\n",
       "4         5     4106       0      Classical          5"
      ]
     },
     "execution_count": 3,
     "metadata": {},
     "output_type": "execute_result"
    }
   ],
   "source": [
    "genres_csv_path = \"/home/oaraz/nextcore/fingerprinting/datasets/neural-audio-fp-dataset/extras/fma_info/genres.csv\"\n",
    "df_genres_full = pd.read_csv(genres_csv_path, low_memory=False)\n",
    "print(df_genres_full.shape)\n",
    "df_genres_full.head()"
   ]
  },
  {
   "cell_type": "markdown",
   "metadata": {},
   "source": [
    "## Examine the NAFP Splits, Find Missing tracks"
   ]
  },
  {
   "cell_type": "code",
   "execution_count": null,
   "metadata": {},
   "outputs": [],
   "source": [
    "import glob\n",
    "import os\n",
    "from itertools import combinations\n",
    "import random"
   ]
  },
  {
   "cell_type": "code",
   "execution_count": null,
   "metadata": {},
   "outputs": [],
   "source": [
    "music_dir = \"/home/oaraz/nextcore/fingerprinting/datasets/neural-audio-fp-dataset/music\"\n",
    "\n",
    "train_dir = os.path.join(music_dir, \"train-10k-30s\")\n",
    "val_dir = os.path.join(music_dir, \"val-query-db-500-30s\")\n",
    "test_dummy_dir = os.path.join(music_dir, \"test-dummy-db-100k-full/fma_full\")\n",
    "test_query_db_dir = os.path.join(music_dir, \"test-query-db-500-30s/db\")"
   ]
  },
  {
   "cell_type": "code",
   "execution_count": null,
   "metadata": {},
   "outputs": [],
   "source": [
    "train_fps = sorted(glob.glob(os.path.join(train_dir, \"**/*.wav\"), recursive=True))\n",
    "val_fps = sorted(glob.glob(os.path.join(val_dir, \"**/*.wav\"), recursive=True))\n",
    "test_dummy_fps = sorted(glob.glob(os.path.join(test_dummy_dir, \"**/*.wav\"), recursive=True))\n",
    "test_query_db_fps = sorted(glob.glob(os.path.join(test_query_db_dir, \"**/*.wav\"), recursive=True))"
   ]
  },
  {
   "cell_type": "code",
   "execution_count": null,
   "metadata": {},
   "outputs": [],
   "source": [
    "train_fnames = set([os.path.basename(fp) for fp in train_fps])\n",
    "print(len(train_fnames))\n",
    "val_fnames = set([os.path.basename(fp) for fp in val_fps])\n",
    "print(len(val_fnames))\n",
    "test_dummy_fnames = set([os.path.basename(fp) for fp in test_dummy_fps])\n",
    "print(len(test_dummy_fnames))\n",
    "test_query_db_fnames = set([os.path.basename(fp) for fp in test_query_db_fps])\n",
    "print(len(test_query_db_fnames))"
   ]
  },
  {
   "cell_type": "code",
   "execution_count": null,
   "metadata": {},
   "outputs": [],
   "source": [
    "required = 100000 - len(test_dummy_fnames)\n",
    "print(required)"
   ]
  },
  {
   "cell_type": "code",
   "execution_count": null,
   "metadata": {},
   "outputs": [],
   "source": [
    "for a,b in combinations([('train', train_fnames), ('val', val_fnames), ('test_dummy', test_dummy_fnames), ('test_query', test_query_db_fnames)], 2):\n",
    "    print(a[0], b[0], len(a[1].intersection(b[1])))"
   ]
  },
  {
   "cell_type": "code",
   "execution_count": null,
   "metadata": {},
   "outputs": [],
   "source": [
    "train_val = train_fnames.union(val_fnames)\n",
    "print(len(train_val))\n",
    "\n",
    "missing_ids = random.sample(list(train_val), k=required)\n",
    "print(len(missing_ids))\n",
    "print(len(set(missing_ids).intersection(test_dummy_fnames)))\n",
    "\n",
    "print(len(set(missing_ids).intersection(test_query_db_fnames)))"
   ]
  },
  {
   "cell_type": "code",
   "execution_count": 18,
   "metadata": {},
   "outputs": [
    {
     "data": {
      "text/plain": [
       "['processing /mnt/mtgdb-audio/incoming/fma/audio/068/068586.mp3',\n",
       " 'sox WARN rate: rate clipped 17 samples; decrease volume?',\n",
       " 'sox WARN dither: dither clipped 14 samples; decrease volume?']"
      ]
     },
     "execution_count": 18,
     "metadata": {},
     "output_type": "execute_result"
    }
   ],
   "source": []
  },
  {
   "cell_type": "code",
   "execution_count": null,
   "metadata": {},
   "outputs": [],
   "source": [
    "with open(\"/home/oaraz/nextcore/fingerprinting/datasets/neural-audio-fp-dataset-missing_6542/missing_ids.txt\", \"w\") as o_f:\n",
    "    o_f.write(\"\\n\".join(missing_ids))"
   ]
  },
  {
   "cell_type": "markdown",
   "metadata": {},
   "source": [
    "for fnames in [train_fnames, val_fnames, test_dummy_fnames, test_query_db_fnames]:\n",
    "    for fname in fnames:\n",
    "        fname = os.path.splitext(fname)[0]\n",
    "        if df[df['track_id']==int(fname)].size==0:\n",
    "            print(\"wtf\")"
   ]
  },
  {
   "cell_type": "markdown",
   "metadata": {},
   "source": [
    "## Move files"
   ]
  },
  {
   "cell_type": "code",
   "execution_count": null,
   "metadata": {},
   "outputs": [],
   "source": [
    "with open(\"/home/oaraz/nextcore/fingerprinting/datasets/neural-audio-fp-dataset-missing_6542/missing_ids.txt\", \"r\") as i_f:\n",
    "    missing_ids = [id.strip() for id in i_f.readlines()]\n",
    "for id in missing_ids:\n",
    "    if id == \"\":\n",
    "        print(\"wtf\")"
   ]
  },
  {
   "cell_type": "code",
   "execution_count": null,
   "metadata": {},
   "outputs": [],
   "source": [
    "missing_ids[:10]"
   ]
  },
  {
   "cell_type": "code",
   "execution_count": null,
   "metadata": {},
   "outputs": [],
   "source": [
    "with open(\"/home/oaraz/nextcore/fingerprinting/datasets/neural-audio-fp-dataset-missing_6542/missing_ids-source_paths.txt\", \"w\") as o_f:\n",
    "    for id in missing_ids:\n",
    "        id = os.path.splitext(id)[0]\n",
    "        source_path = os.path.join(id[:3], f\"{id}.mp3\") # \"/mnt/mtgdb-audio/incoming/fma/audio\"\n",
    "        o_f.write(f\"{source_path}\\n\")"
   ]
  },
  {
   "cell_type": "code",
   "execution_count": null,
   "metadata": {},
   "outputs": [],
   "source": [
    "source_path"
   ]
  },
  {
   "cell_type": "markdown",
   "metadata": {},
   "source": [
    "## test_ids"
   ]
  },
  {
   "cell_type": "code",
   "execution_count": null,
   "metadata": {},
   "outputs": [],
   "source": [
    "import numpy as np\n",
    "import matplotlib.pyplot as plt"
   ]
  },
  {
   "cell_type": "code",
   "execution_count": null,
   "metadata": {},
   "outputs": [],
   "source": [
    "test_ids_path = \"/home/oaraz/nextcore/fingerprinting/neural-audio-fp/eval/test_ids_icassp2021.npy\"\n",
    "test_ids = np.load(test_ids_path)"
   ]
  },
  {
   "cell_type": "code",
   "execution_count": null,
   "metadata": {},
   "outputs": [],
   "source": [
    "boundaries_path = \"/home/oaraz/nextcore/fingerprinting/neural-audio-fp/logs/emb/640_lamb/101/db-track_boundaries.npy\"\n",
    "boundaries = np.load(boundaries_path)"
   ]
  },
  {
   "cell_type": "code",
   "execution_count": null,
   "metadata": {},
   "outputs": [],
   "source": [
    "counter = {n: 0 for n in range(500)}\n",
    "for test_id in test_ids:\n",
    "    track_idx = np.where((boundaries[:,0]<=test_id) & (boundaries[:,1]>=test_id))[0][0]\n",
    "    counter[track_idx] += 1"
   ]
  },
  {
   "cell_type": "code",
   "execution_count": null,
   "metadata": {},
   "outputs": [],
   "source": [
    "sum([1 if c==0 else 0 for c in counter.values()])"
   ]
  },
  {
   "cell_type": "code",
   "execution_count": null,
   "metadata": {},
   "outputs": [],
   "source": [
    "np.median(list(counter.values()))"
   ]
  },
  {
   "cell_type": "code",
   "execution_count": null,
   "metadata": {},
   "outputs": [],
   "source": [
    "max(counter.values())"
   ]
  },
  {
   "cell_type": "code",
   "execution_count": null,
   "metadata": {},
   "outputs": [],
   "source": [
    "x = list(counter.keys())\n",
    "y = list(counter.values())\n",
    "fig, ax = plt.subplots(figsize=(20, 10))\n",
    "ax.bar(x, y)\n",
    "ax.grid()\n",
    "plt.show()"
   ]
  },
  {
   "cell_type": "code",
   "execution_count": null,
   "metadata": {},
   "outputs": [],
   "source": [
    "test_seq_len = [1, 3, 5, 9, 15, 19]\n",
    "\n",
    "test_ids = []\n",
    "for s,e in boundaries:\n",
    "    # Cut the query into segments of test_seq_len\n",
    "    # If the last segment is shorter than test_seq_len, ignore it\n",
    "    test_ids.append(np.arange(s, e+1-test_seq_len[-1], 11)) # end is inclusive\n",
    "test_ids = np.concatenate(test_ids)\n",
    "print(len(test_ids))\n",
    "\n",
    "counter = {n: 0 for n in range(500)}\n",
    "for test_id in test_ids:\n",
    "    track_idx = np.where((boundaries[:,0]<=test_id) & (boundaries[:,1]>=test_id))[0][0]\n",
    "    counter[track_idx] += 1\n",
    "print(sum([1 if c==0 else 0 for c in counter.values()]))\n",
    "\n",
    "x = list(counter.keys())\n",
    "y = list(counter.values())\n",
    "fig, ax = plt.subplots(figsize=(20, 10))\n",
    "ax.bar(x, y)\n",
    "ax.grid()\n",
    "plt.show()"
   ]
  },
  {
   "cell_type": "code",
   "execution_count": null,
   "metadata": {},
   "outputs": [],
   "source": [
    "test_seq_len = [1, 3, 5, 9, 15, 19]\n",
    "\n",
    "test_ids = []\n",
    "for s,e in boundaries:\n",
    "    # Cut the query into segments of test_seq_len\n",
    "    # If the last segment is shorter than test_seq_len, ignore it\n",
    "    test_ids.append(np.arange(s, e+1-test_seq_len[-1], 5)) # end is inclusive\n",
    "test_ids = np.concatenate(test_ids)\n",
    "\n",
    "print(len(test_ids))\n",
    "\n",
    "counter = {n: 0 for n in range(500)}\n",
    "for test_id in test_ids:\n",
    "    track_idx = np.where((boundaries[:,0]<=test_id) & (boundaries[:,1]>=test_id))[0][0]\n",
    "    counter[track_idx] += 1\n",
    "\n",
    "x = list(counter.keys())\n",
    "y = list(counter.values())\n",
    "fig, ax = plt.subplots(figsize=(20, 10))\n",
    "ax.bar(x, y)\n",
    "ax.grid()\n",
    "plt.show()"
   ]
  },
  {
   "cell_type": "markdown",
   "metadata": {},
   "source": [
    "### Check if boundaries are preserved"
   ]
  },
  {
   "cell_type": "code",
   "execution_count": null,
   "metadata": {},
   "outputs": [],
   "source": [
    "test_ids_path = \"/home/oaraz/nextcore/fingerprinting/neural-audio-fp/eval/test_ids_icassp2021.npy\"\n",
    "test_ids = np.load(test_ids_path)\n",
    "\n",
    "boundaries_path = \"/home/oaraz/nextcore/fingerprinting/neural-audio-fp/logs/emb/640_lamb/101/db-track_boundaries.npy\"\n",
    "boundaries = np.load(boundaries_path)"
   ]
  },
  {
   "cell_type": "code",
   "execution_count": null,
   "metadata": {},
   "outputs": [],
   "source": [
    "test_seq_len = [1, 3, 5, 9, 15, 19]"
   ]
  },
  {
   "cell_type": "code",
   "execution_count": null,
   "metadata": {},
   "outputs": [],
   "source": [
    "counter = 0\n",
    "for test_id in test_ids:\n",
    "    track_idx = np.where((boundaries[:,0]<=test_id) & (boundaries[:,1]>=test_id))[0][0]\n",
    "    _, u_b = boundaries[track_idx]\n",
    "    for s_l in test_seq_len:\n",
    "        if test_id + s_l - 1 <= u_b:\n",
    "            continue\n",
    "        else:\n",
    "            #print(test_id, s_l, u_b)\n",
    "            counter += 1\n",
    "print(100*counter/(len(test_seq_len)*len(test_ids)))"
   ]
  }
 ],
 "metadata": {
  "kernelspec": {
   "display_name": "Python 3 (ipykernel)",
   "language": "python",
   "name": "python3"
  },
  "language_info": {
   "codemirror_mode": {
    "name": "ipython",
    "version": 3
   },
   "file_extension": ".py",
   "mimetype": "text/x-python",
   "name": "python",
   "nbconvert_exporter": "python",
   "pygments_lexer": "ipython3",
   "version": "3.7.7"
  }
 },
 "nbformat": 4,
 "nbformat_minor": 2
}
